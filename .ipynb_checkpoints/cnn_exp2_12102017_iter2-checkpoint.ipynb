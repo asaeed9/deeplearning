{
 "cells": [
  {
   "cell_type": "code",
   "execution_count": 1,
   "metadata": {},
   "outputs": [
    {
     "name": "stdout",
     "output_type": "stream",
     "text": [
      "/home/asaeed9/work/deeplearning\n"
     ]
    }
   ],
   "source": [
    "%cd ~/work/deeplearning/"
   ]
  },
  {
   "cell_type": "code",
   "execution_count": 2,
   "metadata": {},
   "outputs": [
    {
     "name": "stderr",
     "output_type": "stream",
     "text": [
      "WARNING (theano.sandbox.cuda): The cuda backend is deprecated and will be removed in the next release (v0.10).  Please switch to the gpuarray backend. You can get more information about how to switch at this URL:\n",
      " https://github.com/Theano/Theano/wiki/Converting-to-the-new-gpu-back-end%28gpuarray%29\n",
      "\n",
      "Using gpu device 1: GeForce GTX 980 Ti (CNMeM is disabled, cuDNN 5110)\n",
      "WARNING (theano.sandbox.cuda): The cuda backend is deprecated and will be removed in the next release (v0.10).  Please switch to the gpuarray backend. You can get more information about how to switch at this URL:\n",
      " https://github.com/Theano/Theano/wiki/Converting-to-the-new-gpu-back-end%28gpuarray%29\n",
      "\n",
      "Using Theano backend.\n"
     ]
    }
   ],
   "source": [
    "from theano.sandbox import cuda\n",
    "cuda.use('gpu1')\n",
    "%matplotlib inline\n",
    "from __future__ import print_function, division\n",
    "#path=\"../data/2cat/sample\"\n",
    "import utils; reload(utils)\n",
    "from utils import *\n",
    "from IPython.display import FileLink\n",
    "from keras.preprocessing import image, sequence\n",
    "import os, sys, cv2\n",
    "from shutil import copyfile, move\n",
    "from random import shuffle\n",
    "\n",
    "####\n",
    "from keras.layers.convolutional import *\n",
    "from keras.layers.core import Flatten, Dense, Dropout, Lambda\n",
    "from keras.optimizers import SGD, RMSprop, Adam\n",
    "import datetime"
   ]
  },
  {
   "cell_type": "code",
   "execution_count": 3,
   "metadata": {},
   "outputs": [
    {
     "name": "stdout",
     "output_type": "stream",
     "text": [
      "/home/asaeed9/work/data/2cat/train\n"
     ]
    }
   ],
   "source": [
    "data_dir=\"/home/asaeed9/work/data/2cat\"\n",
    "path=\"/home/asaeed9/work/data/2cat/sample/\"\n",
    "results_path = \"/home/asaeed9/work/data/2cat/sample/results\"\n",
    "test_path = path + '/test/' #We use all the test data\n",
    "global last_file_timestamp\n",
    "%cd ../data/2cat/train"
   ]
  },
  {
   "cell_type": "code",
   "execution_count": 4,
   "metadata": {
    "collapsed": true
   },
   "outputs": [],
   "source": [
    "def adjust_prev_data_sample():\n",
    "    %mv $path/train/cats/* $data_dir/train/\n",
    "    %mv $path/train/dogs/* $data_dir/train/\n",
    "    %mv $path/valid/cats/* $data_dir/train/\n",
    "    %mv $path/valid/dogs/* $data_dir/train/\n",
    "    \n",
    "#clean previous data\n",
    "def adjust_prev_data():\n",
    "    %mv $data_dir/valid/* $data_dir/train/    \n",
    "    adjust_prev_data_sample()\n",
    "\n",
    "def move_data(images, kind, clean):\n",
    "    \n",
    "    if clean:\n",
    "        %mv $path/$kind/cats/* $data_dir/train/\n",
    "        %mv $path/$kind/dogs/* $data_dir/train/\n",
    "        \n",
    "    g = glob('*.jpg')\n",
    "    shuf = np.random.permutation(g)\n",
    "    for i in range(images): os.rename(shuf[i], '../sample/'+ kind + '/' + shuf[i]) \n",
    "    %mv ../sample/$kind/cat*.jpg ../sample/$kind/cats/\n",
    "    %mv ../sample/$kind/dog*.jpg ../sample/$kind/dogs/      \n",
    "\n",
    "# def move_to_unlabel(images):\n",
    "#     g = glob('*.jpg')\n",
    "#     shuf = np.random.permutation(g)\n",
    "#     for i in range(images): os.rename(shuf[i], '../sample/unlabel/' + shuf[i]) \n",
    "#     %mv ../sample/unlabel/cat*.jpg ../sample/unlabel/cats/\n",
    "#     %mv ../sample/unlabel/dog*.jpg ../sample/unlabel/dogs/      \n",
    "    \n",
    "    \n",
    "def handle_null(train, validation):\n",
    "    g = glob('*.jpg')\n",
    "    shuf = np.random.permutation(g)\n",
    "    for i in range(train): copyfile(shuf[i], '../sample/train/' + shuf[i]) \n",
    "    %mv ../sample/train/cat*.jpg ../sample/train/cats/\n",
    "    %mv ../sample/train/dog*.jpg ../sample/train/dogs/\n",
    "    \n",
    "    %cd ../valid\n",
    "\n",
    "    g = glob('*.jpg')\n",
    "    shuf = np.random.permutation(g)\n",
    "    for i in range(validation): copyfile(shuf[i], '../sample/valid/' + shuf[i]) \n",
    "    %mv ../sample/valid/cat*.jpg ../sample/valid/cats/\n",
    "    %mv ../sample/valid/dog*.jpg ../sample/valid/dogs/\n",
    "    %cd $data_dir/train\n",
    "    \n",
    "#copy training images\n",
    "def copy_samples(train, validation):\n",
    "    #print(\"Copying new samples for training...\")\n",
    "    #clean previous data\n",
    "    adjust_prev_data()\n",
    "    \n",
    "    #build validation set\n",
    "    g = glob('*.jpg')\n",
    "    shuf = np.random.permutation(g)\n",
    "    for i in range(validation): os.rename(shuf[i], '../valid/' + shuf[i]) \n",
    "    \n",
    "    g = glob('*.jpg')\n",
    "    shuf = np.random.permutation(g)\n",
    "    for i in range(train): copyfile(shuf[i], '../sample/train/' + shuf[i]) \n",
    "    %mv ../sample/train/cat*.jpg ../sample/train/cats/\n",
    "    %mv ../sample/train/dog*.jpg ../sample/train/dogs/\n",
    "    \n",
    "    %cd ../valid\n",
    "\n",
    "    g = glob('*.jpg')\n",
    "    shuf = np.random.permutation(g)\n",
    "    for i in range(validation): copyfile(shuf[i], '../sample/valid/' + shuf[i]) \n",
    "    %mv ../sample/valid/cat*.jpg ../sample/valid/cats/\n",
    "    %mv ../sample/valid/dog*.jpg ../sample/valid/dogs/\n",
    "    %cd $data_dir/train\n",
    "\n",
    "def onehot(x): return np.array(OneHotEncoder().fit_transform(x.reshape(-1,1)).todense())\n",
    "\n",
    "def pred_batch(imgs, classes):\n",
    "    preds = model.predict(imgs)\n",
    "    idxs = np.argmax(preds, axis=1)\n",
    "\n",
    "    print('Shape: {}'.format(preds.shape))\n",
    "    print('First 5 classes: {}'.format(classes[:5]))\n",
    "    print('First 5 probabilities: {}\\n'.format(preds[:5]))\n",
    "    print('Predictions prob/class: ')\n",
    "    \n",
    "    for i in range(len(idxs)):\n",
    "        idx = idxs[i]\n",
    "        print ('  {:.4f}/{}'.format(preds[i, idx], classes[idx]))\n",
    "\n",
    "\n",
    "def generate_size_graph(fig_no, training_size, accuracy, loss, start_size, end_size):\n",
    "    plt.figure(fig_no,figsize=(7,5))\n",
    "    plt.plot(training_size,accuracy)\n",
    "    plt.plot(training_size,loss)\n",
    "    plt.xlabel('Training Size')\n",
    "    plt.ylabel('Accuracy')\n",
    "    plt.title('Training Size vs Accuracy')\n",
    "    plt.grid(True)\n",
    "    plt.legend(['Experiment 1','Experiment 2'], loc=4)\n",
    "    plt.style.use(['classic'])\n",
    "    plt.show()\n",
    "    plt.savefig(path + '/batch_graphs/' +  str(start_size) + '_' + str(end_size) + '.jpg') \n",
    "\n",
    "def generate_size_graph_al(fig_no, training_size, accuracy, loss, start_size, end_size):\n",
    "    plt.figure(fig_no,figsize=(7,5))\n",
    "    plt.plot(training_size,accuracy)\n",
    "    plt.plot(training_size,loss)\n",
    "    plt.xlabel('Training Size')\n",
    "    plt.ylabel('Accuracy/Loss')\n",
    "    plt.title('Training Size vs Accuracy/Loss')\n",
    "    plt.grid(True)\n",
    "    plt.legend(['Experiment 2','Loss'])\n",
    "    #plt.style.use(['classic'])\n",
    "    plt.show()\n",
    "    plt.savefig(path + '/batch_graphs/' +  str(start_size) + '_' + str(end_size) + '.jpg') \n",
    "    \n",
    "def generate_graph(fig_no, epochs, train, val, label, train_title, val_title, train_size):\n",
    "    plt.figure(fig_no,figsize=(7,5))\n",
    "    plt.plot(epochs,train)\n",
    "    plt.plot(epochs,val)\n",
    "    plt.xlabel('num of Epochs')\n",
    "    plt.ylabel(label)\n",
    "    plt.title(train_title + ' vs ' + val_title + '( Samples:' + str(train_size) + ')')\n",
    "    plt.grid(True)\n",
    "    plt.legend(['train','val'])\n",
    "    plt.style.use(['classic'])\n",
    "    plt.show()\n",
    "    plt.savefig(results_path + '/batch_graphs/' +  label + '_' + str(train_size) + '.jpg') \n",
    "    \n",
    "def get_train_model(tr_batches, val_batches, epoch):\n",
    "    model = Sequential([\n",
    "            BatchNormalization(axis=1, input_shape=(3, 256,256)),\n",
    "            Convolution2D(32,3,3, activation='relu'),\n",
    "            BatchNormalization(axis=1),\n",
    "            MaxPooling2D((3,3)),\n",
    "            Dropout(0.2),\n",
    "#             Convolution2D(64,3,3, activation='relu'),\n",
    "#             BatchNormalization(axis=1),\n",
    "            #MaxPooling2D((3,3)),\n",
    "            Convolution2D(64,3,3, activation='relu'),\n",
    "            BatchNormalization(axis=1),\n",
    "            MaxPooling2D((3,3)),\n",
    "            Dropout(0.2),\n",
    "            Convolution2D(32,3,3, activation='relu'),\n",
    "            BatchNormalization(axis=1),\n",
    "            MaxPooling2D((3,3)),\n",
    "            Dropout(0.2),\n",
    "            Flatten(),\n",
    "            Dense(1024, activation='relu'),\n",
    "            BatchNormalization(),\n",
    "            Dropout(0.2),\n",
    "            Dense(2, activation='softmax')\n",
    "        ])\n",
    "\n",
    "    model.compile(Adam(lr=1e-4), loss='categorical_crossentropy', metrics=['accuracy'])\n",
    "    model.fit_generator(tr_batches, tr_batches.nb_sample, nb_epoch=2, validation_data=val_batches, \n",
    "                     nb_val_samples=val_batches.nb_sample)\n",
    "    model.optimizer.lr = 0.001\n",
    "    model.fit_generator(tr_batches, tr_batches.nb_sample, nb_epoch=epoch - 2, validation_data=val_batches, \n",
    "                     nb_val_samples=val_batches.nb_sample)\n",
    "    return model \n",
    "\n",
    "def train_model(model, tr_batches, val_batches, epoch):\n",
    "    if not model:\n",
    "        model = Sequential([\n",
    "                BatchNormalization(axis=1, input_shape=(3, 256,256)),\n",
    "                Convolution2D(32,3,3, activation='relu'),\n",
    "                BatchNormalization(axis=1),\n",
    "                MaxPooling2D((3,3)),\n",
    "                Dropout(0.2),\n",
    "    #             Convolution2D(64,3,3, activation='relu'),\n",
    "    #             BatchNormalization(axis=1),\n",
    "                #MaxPooling2D((3,3)),\n",
    "                Convolution2D(64,3,3, activation='relu'),\n",
    "                BatchNormalization(axis=1),\n",
    "                MaxPooling2D((3,3)),\n",
    "                Dropout(0.2),\n",
    "                Convolution2D(32,3,3, activation='relu'),\n",
    "                BatchNormalization(axis=1),\n",
    "                MaxPooling2D((3,3)),\n",
    "                Dropout(0.2),\n",
    "                Flatten(),\n",
    "                Dense(1024, activation='relu'),\n",
    "                BatchNormalization(),\n",
    "                Dropout(0.2),\n",
    "                Dense(2, activation='softmax')\n",
    "            ])\n",
    "        model.compile(Adam(lr=1e-4), loss='categorical_crossentropy', metrics=['accuracy'])\n",
    "       \n",
    "    model.fit_generator(tr_batches, tr_batches.nb_sample, nb_epoch=2, validation_data=val_batches, \n",
    "                     nb_val_samples=val_batches.nb_sample)\n",
    "    \n",
    "    model.optimizer.lr = 0.1\n",
    "    model.fit_generator(tr_batches, tr_batches.nb_sample, nb_epoch=1, validation_data=val_batches, \n",
    "                     nb_val_samples=val_batches.nb_sample)\n",
    "    \n",
    "    model.optimizer.lr = 0.001\n",
    "    model.fit_generator(tr_batches, tr_batches.nb_sample, nb_epoch=epoch - 3, validation_data=val_batches, \n",
    "                     nb_val_samples=val_batches.nb_sample)\n",
    "        \n",
    "    return model \n",
    "    \n",
    "    \n",
    "def get_test_model():\n",
    "    model = Sequential([\n",
    "                BatchNormalization(axis=1, input_shape=(3,256,256)),\n",
    "                Convolution2D(32,3,3, activation='relu'),\n",
    "                BatchNormalization(axis=1),\n",
    "                MaxPooling2D((3,3)),\n",
    "    #             Convolution2D(64,3,3, activation='relu'),\n",
    "    #             BatchNormalization(axis=1),\n",
    "                #MaxPooling2D((3,3)),\n",
    "                Convolution2D(64,3,3, activation='relu'),\n",
    "                BatchNormalization(axis=1),\n",
    "                MaxPooling2D((3,3)),\n",
    "                Convolution2D(32,3,3, activation='relu'),\n",
    "                BatchNormalization(axis=1),\n",
    "                MaxPooling2D((3,3)),\n",
    "                Flatten(),\n",
    "                Dense(1024, activation='relu'),\n",
    "                BatchNormalization(),\n",
    "                Dense(2, activation='softmax')\n",
    "            ])\n",
    "\n",
    "    model.compile(Adam(lr=1e-4), loss='categorical_crossentropy', metrics=['accuracy'])  \n",
    "    \n",
    "    return model\n",
    "\n",
    "def fit(samples_copied, old_model, path, results_path, nepoch, batch_size, train_size, valid_size):\n",
    "    gen_t = image.ImageDataGenerator(rotation_range=15, height_shift_range=0.05, \n",
    "                shear_range=0.1, channel_shift_range=20, width_shift_range=0.1)\n",
    "\n",
    "    #for train in training_range:\n",
    "    model = None\n",
    "    if not samples_copied:\n",
    "        copy_samples(train_size, valid_size)\n",
    "\n",
    "    tr_batches = gen_t.flow_from_directory(path + 'train', batch_size=batch_size)\n",
    "    val_batches = gen_t.flow_from_directory(path + 'valid', class_mode='categorical', shuffle=True, batch_size=batch_size * 2)\n",
    "    \n",
    "    if old_model:\n",
    "        model = train_model(old_model, tr_batches, val_batches, nepoch)\n",
    "    else:\n",
    "        model = train_model(None, tr_batches, val_batches, nepoch)\n",
    "        \n",
    "    #model.save_weights(results_path+ '/' + 'ft_' + str(train_size) + '.e' + str(nepoch))\n",
    "    last_file_timestamp = '{:%Y%m%d%H%M%S}'.format(datetime.datetime.now())\n",
    "    #print('File Time Stamp:{}'.format(last_file_timestamp))\n",
    "    model.save_weights(results_path+'/ft_{}'.format(last_file_timestamp))\n",
    "    #model.load_weights(results_path+'/ft_{}'.format(last_file_timestamp))\n",
    "                          \n",
    "    return model, last_file_timestamp\n",
    "\n",
    "def predict(path, model, predict_type):\n",
    "    gen_test = image.ImageDataGenerator()\n",
    "    test_batches = gen_test.flow_from_directory(path+predict_type, class_mode=None, target_size=(256,256), shuffle=False, batch_size=1)\n",
    "    test_data = np.concatenate([test_batches.next() for i in range(test_batches.nb_sample)])\n",
    "    test_labels = onehot(test_batches.classes)\n",
    "    score = model.evaluate(test_data, test_labels)\n",
    "    \n",
    "    probs = model.predict(test_data)\n",
    "    \n",
    "    #loss_score.append(score[0])\n",
    "    #accuracy_score.append(score[1])\n",
    "    \n",
    "    #print(\"\\nLoss:{}, Accuracy:{}\".format(score[0], score[1]))\n",
    "    #print(\"\\nProbabilities:{}\".format(probs))\n",
    "    return probs, test_batches, score[0], score[1]\n",
    "\n",
    "def move_samples(retrain_set,dest_path, n, limit):\n",
    "    cats_copied = 0\n",
    "    dogs_copied = 0\n",
    "    retrain_list = list(retrain_set)\n",
    "    shuffle(retrain_list)\n",
    "    for fil in range(n):\n",
    "        fil = retrain_list.pop()\n",
    "        fil_cpy = fil[fil.find('/')+1:]\n",
    "\n",
    "        if 'cat' in fil_cpy and cats_copied <= limit:\n",
    "            os.rename(os.path.join(path + \"unlabel/cats/\"+ fil_cpy), os.path.join(path + dest_path + \"/cats/\"+ fil_cpy))\n",
    "            cats_copied+=1\n",
    "        elif 'dog' in fil_cpy and dogs_copied <= limit:\n",
    "            os.rename(os.path.join(path + \"unlabel/dogs/\"+ fil_cpy), os.path.join(path + dest_path + \"/dogs/\" + fil_cpy))\n",
    "            dogs_copied+=1\n",
    "            \n",
    "    #print(\"Limit:\", limit)        \n",
    "    #print(\"moved cats:\", cats_copied)\n",
    "    #print(\"moved dogs:\", dogs_copied)\n",
    "    #print(\"Retrain Length: \", len(retrain_list))\n",
    "    return retrain_list, cats_copied, dogs_copied\n",
    "\n",
    "\n",
    "def move_to_train(retrain_set, limit):\n",
    "    cats = 0\n",
    "    dogs = 0\n",
    "    valid_limit = int(math.floor(.2*(limit*2)))\n",
    "    train_limit = int(math.floor(.8*(limit*2)))\n",
    "    \n",
    "    #print(retrain_set[:10])\n",
    "    print(\"validation set: \", valid_limit)\n",
    "    retrain_list, cats_copied, dogs_copied = move_samples(retrain_set, \"valid\", valid_limit, limit)\n",
    "    valid_size = cats_copied + dogs_copied\n",
    "    print(\"Train set: \", train_limit)\n",
    "    retrain_list, cats_copied, dogs_copied = move_samples(retrain_list, \"train\", train_limit, limit)\n",
    "    train_size = cats_copied + dogs_copied\n",
    "    \n",
    "    return train_size, valid_size, train_size + valid_size\n",
    "\n",
    "def refil_unlabel(nimages):\n",
    "    os.chdir(\"/home/asaeed9/work/data/2cat/train\")\n",
    "    g = glob('*.jpg')\n",
    "    shuf = np.random.permutation(g)\n",
    "    for i in range(nimages): os.rename(shuf[i], '../sample/unlabel/' + shuf[i])\n",
    "    #os.chdir(\"../sample/test/\")\n",
    "    #move(\"cat*.jpg\")\n",
    "    %mv ../sample/unlabel/cat*.jpg ../sample/unlabel/cats/\n",
    "    %mv ../sample/unlabel/dog*.jpg ../sample/unlabel/dogs/     "
   ]
  },
  {
   "cell_type": "code",
   "execution_count": null,
   "metadata": {
    "collapsed": true
   },
   "outputs": [],
   "source": [
    "move_data(2000, 'test', True)\n",
    "move_data(2000, 'unlabel', True)"
   ]
  },
  {
   "cell_type": "code",
   "execution_count": 2,
   "metadata": {
    "collapsed": true
   },
   "outputs": [],
   "source": [
    "import numpy as np"
   ]
  },
  {
   "cell_type": "code",
   "execution_count": 8,
   "metadata": {},
   "outputs": [
    {
     "data": {
      "text/plain": [
       "array([2, 0])"
      ]
     },
     "execution_count": 8,
     "metadata": {},
     "output_type": "execute_result"
    }
   ],
   "source": [
    "np.argsort(abs(0.5 - np.array([0.7,0.1,0.5,0.8])))[:2]"
   ]
  },
  {
   "cell_type": "code",
   "execution_count": 5,
   "metadata": {},
   "outputs": [
    {
     "data": {
      "text/plain": [
       "array([ 0.2,  0.4,  0. ,  0.3])"
      ]
     },
     "execution_count": 5,
     "metadata": {},
     "output_type": "execute_result"
    }
   ],
   "source": [
    "abs(0.5 - np.array([0.7,0.1,0.5,0.8]))"
   ]
  },
  {
   "cell_type": "code",
   "execution_count": null,
   "metadata": {
    "scrolled": true
   },
   "outputs": [
    {
     "name": "stdout",
     "output_type": "stream",
     "text": [
      "/home/asaeed9/work/data/2cat/train\n",
      "Train Size:100\n",
      "Valid Size:20\n",
      "/home/asaeed9/work/data/2cat/valid\n",
      "/home/asaeed9/work/data/2cat/train\n",
      "Found 100 images belonging to 2 classes.\n",
      "Found 20 images belonging to 2 classes.\n",
      "Epoch 1/2\n",
      "100/100 [==============================] - 2s - loss: 1.0509 - acc: 0.5200 - val_loss: 0.9611 - val_acc: 0.4000\n",
      "Epoch 2/2\n",
      "100/100 [==============================] - 1s - loss: 1.1760 - acc: 0.4700 - val_loss: 0.9166 - val_acc: 0.4000\n",
      "Epoch 1/1\n",
      "100/100 [==============================] - 2s - loss: 0.9314 - acc: 0.5700 - val_loss: 0.8550 - val_acc: 0.3000\n",
      "Epoch 1/37\n",
      "100/100 [==============================] - 2s - loss: 0.7350 - acc: 0.6600 - val_loss: 0.7711 - val_acc: 0.3500\n",
      "Epoch 2/37\n",
      "100/100 [==============================] - 1s - loss: 0.9549 - acc: 0.5800 - val_loss: 0.8371 - val_acc: 0.3000\n",
      "Epoch 3/37\n",
      "100/100 [==============================] - 1s - loss: 0.9871 - acc: 0.5800 - val_loss: 0.8167 - val_acc: 0.3000\n",
      "Epoch 4/37\n",
      "100/100 [==============================] - 1s - loss: 0.6619 - acc: 0.6700 - val_loss: 0.7044 - val_acc: 0.6000\n",
      "Epoch 5/37\n",
      "100/100 [==============================] - 1s - loss: 0.8801 - acc: 0.6900 - val_loss: 0.8024 - val_acc: 0.3500\n",
      "Epoch 6/37\n",
      "100/100 [==============================] - 1s - loss: 0.5098 - acc: 0.7700 - val_loss: 0.8186 - val_acc: 0.3500\n",
      "Epoch 7/37\n",
      "100/100 [==============================] - 1s - loss: 0.8467 - acc: 0.6400 - val_loss: 0.7673 - val_acc: 0.3500\n",
      "Epoch 8/37\n",
      "100/100 [==============================] - 1s - loss: 0.6526 - acc: 0.6900 - val_loss: 0.8413 - val_acc: 0.4000\n",
      "Epoch 9/37\n",
      "100/100 [==============================] - 1s - loss: 0.5417 - acc: 0.7500 - val_loss: 0.8742 - val_acc: 0.4000\n",
      "Epoch 10/37\n",
      "100/100 [==============================] - 1s - loss: 0.4795 - acc: 0.8300 - val_loss: 0.8149 - val_acc: 0.4500\n",
      "Epoch 11/37\n",
      "100/100 [==============================] - 1s - loss: 0.4874 - acc: 0.7400 - val_loss: 0.9361 - val_acc: 0.4000\n",
      "Epoch 12/37\n",
      "100/100 [==============================] - 1s - loss: 0.5899 - acc: 0.7400 - val_loss: 0.8704 - val_acc: 0.4000\n",
      "Epoch 13/37\n",
      "100/100 [==============================] - 1s - loss: 0.6045 - acc: 0.7400 - val_loss: 0.9693 - val_acc: 0.4000\n",
      "Epoch 14/37\n",
      "100/100 [==============================] - 1s - loss: 0.5896 - acc: 0.7200 - val_loss: 1.0016 - val_acc: 0.4000\n",
      "Epoch 15/37\n",
      "100/100 [==============================] - 1s - loss: 0.5364 - acc: 0.8000 - val_loss: 0.9454 - val_acc: 0.4000\n",
      "Epoch 16/37\n",
      "100/100 [==============================] - 1s - loss: 0.5140 - acc: 0.7500 - val_loss: 0.9993 - val_acc: 0.4000\n",
      "Epoch 17/37\n",
      "100/100 [==============================] - 1s - loss: 0.5519 - acc: 0.7700 - val_loss: 1.0643 - val_acc: 0.4000\n",
      "Epoch 18/37\n",
      "100/100 [==============================] - 1s - loss: 0.5904 - acc: 0.7000 - val_loss: 1.0219 - val_acc: 0.4000\n",
      "Epoch 19/37\n",
      "100/100 [==============================] - 1s - loss: 0.2984 - acc: 0.8800 - val_loss: 1.0390 - val_acc: 0.4000\n",
      "Epoch 20/37\n",
      "100/100 [==============================] - 1s - loss: 0.5655 - acc: 0.7500 - val_loss: 1.0755 - val_acc: 0.4000\n",
      "Epoch 21/37\n",
      "100/100 [==============================] - 1s - loss: 0.3496 - acc: 0.8300 - val_loss: 1.0658 - val_acc: 0.4000\n",
      "Epoch 22/37\n",
      "100/100 [==============================] - 1s - loss: 0.3884 - acc: 0.8100 - val_loss: 1.1460 - val_acc: 0.4000\n",
      "Epoch 23/37\n",
      "100/100 [==============================] - 1s - loss: 0.5220 - acc: 0.8100 - val_loss: 1.1732 - val_acc: 0.4000\n",
      "Epoch 24/37\n",
      "100/100 [==============================] - 1s - loss: 0.6081 - acc: 0.7700 - val_loss: 1.1456 - val_acc: 0.4000\n",
      "Epoch 25/37\n",
      "100/100 [==============================] - 1s - loss: 0.5113 - acc: 0.8400 - val_loss: 1.2896 - val_acc: 0.4000\n",
      "Epoch 26/37\n",
      "100/100 [==============================] - 1s - loss: 0.3779 - acc: 0.8400 - val_loss: 1.2401 - val_acc: 0.4000\n",
      "Epoch 27/37\n",
      "100/100 [==============================] - 1s - loss: 0.4167 - acc: 0.8000 - val_loss: 1.4184 - val_acc: 0.4000\n",
      "Epoch 28/37\n",
      "100/100 [==============================] - 1s - loss: 0.3451 - acc: 0.8500 - val_loss: 1.4562 - val_acc: 0.4000\n",
      "Epoch 29/37\n",
      "100/100 [==============================] - 1s - loss: 0.5330 - acc: 0.7700 - val_loss: 1.6091 - val_acc: 0.4000\n",
      "Epoch 30/37\n",
      "100/100 [==============================] - 1s - loss: 0.3034 - acc: 0.8700 - val_loss: 1.6406 - val_acc: 0.4000\n",
      "Epoch 31/37\n",
      "100/100 [==============================] - 1s - loss: 0.4051 - acc: 0.8100 - val_loss: 1.7796 - val_acc: 0.4000\n",
      "Epoch 32/37\n",
      "100/100 [==============================] - 1s - loss: 0.3489 - acc: 0.8700 - val_loss: 1.8442 - val_acc: 0.4000\n",
      "Epoch 33/37\n",
      "100/100 [==============================] - 1s - loss: 0.4456 - acc: 0.8200 - val_loss: 1.9460 - val_acc: 0.4000\n",
      "Epoch 34/37\n",
      "100/100 [==============================] - 1s - loss: 0.2963 - acc: 0.8400 - val_loss: 2.0266 - val_acc: 0.4000\n",
      "Epoch 35/37\n",
      "100/100 [==============================] - 1s - loss: 0.2229 - acc: 0.9000 - val_loss: 2.1000 - val_acc: 0.4000\n",
      "Epoch 36/37\n",
      "100/100 [==============================] - 1s - loss: 0.4116 - acc: 0.8300 - val_loss: 2.1822 - val_acc: 0.4000\n",
      "Epoch 37/37\n",
      "100/100 [==============================] - 1s - loss: 0.3259 - acc: 0.7800 - val_loss: 2.1696 - val_acc: 0.4000\n",
      "\n",
      "Verification on Unlabel set.\n",
      "Found 2000 images belonging to 2 classes.\n",
      "2000/2000 [==============================] - 2s     \n",
      "\n",
      "Unlabel Accuracy:0.55\n",
      "Unlabel Loss:1.63868062496\n",
      "validation set:  335\n",
      "Train set:  1340\n",
      "\n",
      "Verification on Test set.\n",
      "Found 2000 images belonging to 2 classes.\n",
      "2000/2000 [==============================] - 2s     \n",
      "\n",
      "Training Set Size:[100]\n",
      "Accuracy:[0.4945]\n",
      "Loss:[1.8295054642856121]\n",
      "Train Size:1340\n",
      "Valid Size:335\n",
      "Found 1440 images belonging to 2 classes.\n",
      "Found 355 images belonging to 2 classes.\n",
      "Epoch 1/2\n",
      " 832/1440 [================>.............] - ETA: 7s - loss: 1.0407 - acc: 0.5950"
     ]
    }
   ],
   "source": [
    "%cd $data_dir/train\n",
    "\n",
    "nepoch = 40\n",
    "batch_size = 64\n",
    "train_size = 100\n",
    "running_train_size = 100\n",
    "retrain_size = 1800\n",
    "training_set_size = []\n",
    "valid_size = int(math.floor(.2 * train_size))\n",
    "#print('sample size: {}'.format(train_size + valid_size))\n",
    "tr_model = None\n",
    "loss = 0.0\n",
    "loss_array = []\n",
    "accuracy = 0.0\n",
    "accuracy_array = []\n",
    "\n",
    "#copy test data\n",
    "#move_data(2000, 'test', True)\n",
    "#move_data(2000, 'unlabel', True)\n",
    "\n",
    "i=0\n",
    "for i in range(200):\n",
    "    print(\"Train Size:{}\".format(train_size))\n",
    "    print(\"Valid Size:{}\".format(valid_size))\n",
    "\n",
    "    if train_size == 0 or valid_size == 0: #handle null case\n",
    "        handle_null(50,10)\n",
    "        train_size += 50\n",
    "        valid_size += 10\n",
    "\n",
    "    tr_model,file_timestamp = fit(i, tr_model, path, results_path, nepoch, batch_size, train_size, valid_size)\n",
    "\n",
    "    model = None\n",
    "    model = get_test_model() \n",
    "    #model.load_weights(results_path+'/ft_' + str(train_size) + '.e' + str(nepoch))\n",
    "    #print('{0}/ft_{1}'.format(last_file_timestamp))\n",
    "    #print('Last File Timestamp- before loading:{}'.format(file_timestamp))\n",
    "    model.load_weights(results_path+'/ft_{}'.format(file_timestamp))\n",
    "\n",
    "    print(\"\\nVerification on Unlabel set.\")\n",
    "    probs, test_batches,loss, accuracy = predict(path, model, \"unlabel\")\n",
    "    print('\\nUnlabel Accuracy:{}'.format(accuracy))\n",
    "    print('Unlabel Loss:{}'.format(loss))    \n",
    "#     training_set_size.append(running_train_size)\n",
    "#     loss_array.append(loss)\n",
    "#     accuracy_array.append(accuracy)\n",
    "\n",
    "    #get the top 100, most confused images\n",
    "    retrain_idx = np.argsort(abs(0.5 - probs[:, 1]))[:retrain_size]\n",
    "    #print(len(retrain_idx))\n",
    "\n",
    "    retrain_set = [test_batches.filenames[i] for i in retrain_idx]\n",
    "\n",
    "    #print('Retrain Set Length:{}'.format(len(retrain_set)))\n",
    "\n",
    "    os.chdir(path + 'unlabel')\n",
    "    ndog = sum('dog' in name for name in retrain_set)\n",
    "    ncat =  sum('cat' in name for name in retrain_set)\n",
    "    limit = min(ncat, ndog)\n",
    "\n",
    "    #print('Dogs:{}, Cats:{}'.format(ndog, ncat))\n",
    "\n",
    "    #move existing training data to the store\n",
    "    #adjust_prev_data_sample()\n",
    "    train_size, valid_size, copied_images = move_to_train(retrain_set, limit)\n",
    "    refil_unlabel(copied_images)\n",
    "    \n",
    "\n",
    "    print(\"\\nVerification on Test set.\")\n",
    "    model_test = None\n",
    "    model_test = get_test_model() \n",
    "    #model.load_weights(results_path+'/ft_' + str(train_size) + '.e' + str(nepoch))\n",
    "    #print('{0}/ft_{1}'.format(last_file_timestamp))\n",
    "    #print('Last File Timestamp- before loading:{}'.format(file_timestamp))\n",
    "    model_test.load_weights(results_path+'/ft_{}'.format(file_timestamp))\n",
    "\n",
    "    probs, test_batches,loss, accuracy = predict(path, model_test, \"test\")\n",
    "    training_set_size.append(running_train_size)\n",
    "    loss_array.append(loss)\n",
    "    accuracy_array.append(accuracy)\n",
    "\n",
    "    running_train_size += train_size\n",
    "\n",
    "    print('\\nTraining Set Size:{}'.format(training_set_size))\n",
    "    print('Accuracy:{}'.format(accuracy_array))\n",
    "    print('Loss:{}'.format(loss_array))\n",
    "        "
   ]
  },
  {
   "cell_type": "code",
   "execution_count": null,
   "metadata": {
    "collapsed": true
   },
   "outputs": [],
   "source": [
    "sample_probs = probs[:3, :]\n",
    "\n",
    "np.argsort(sample_probs)"
   ]
  },
  {
   "cell_type": "code",
   "execution_count": null,
   "metadata": {
    "collapsed": true,
    "scrolled": true
   },
   "outputs": [],
   "source": [
    "sample_probs"
   ]
  },
  {
   "cell_type": "code",
   "execution_count": null,
   "metadata": {
    "collapsed": true,
    "scrolled": true
   },
   "outputs": [],
   "source": [
    "sample_probs[:3,0] - sample_probs[:3, 1]"
   ]
  },
  {
   "cell_type": "code",
   "execution_count": null,
   "metadata": {
    "collapsed": true
   },
   "outputs": [],
   "source": [
    "np.argsort(sample_probs[:3,0] - sample_probs[:3, 1])[:2]"
   ]
  },
  {
   "cell_type": "code",
   "execution_count": null,
   "metadata": {
    "collapsed": true
   },
   "outputs": [],
   "source": [
    "sorted(probs[:2,0] - probs[:2,1])"
   ]
  },
  {
   "cell_type": "code",
   "execution_count": null,
   "metadata": {
    "collapsed": true
   },
   "outputs": [],
   "source": [
    "\n",
    "np.where(sorted(abs(probs[:2,0] - probs[:2,1])))[0]\n",
    "\n",
    "#np.where(np.logical_and(probs >=0.4, probs<=0.7))[0]\n",
    "#np.where()[10]"
   ]
  },
  {
   "cell_type": "code",
   "execution_count": null,
   "metadata": {
    "collapsed": true
   },
   "outputs": [],
   "source": [
    "np.where(abs(probs[:,0] - probs[:, 1]))[0]"
   ]
  },
  {
   "cell_type": "code",
   "execution_count": 6,
   "metadata": {
    "collapsed": true
   },
   "outputs": [],
   "source": [
    "training_set_size = [100, 1504, 2928, 4302, 5722, 7126, 8558, 9966, 11394, 12827, 14204, 15618, 17045, 18427, 19863, 21275, 22699, 24115, 25548, 26916]\n",
    "accuracy_array = [0.50649999999999995, 0.62, 0.67300000000000004, 0.73750000000000004, 0.77200000000000002, 0.79449999999999998, 0.8145, 0.82750000000000001, 0.85099999999999998, 0.85550000000000004, 0.85650000000000004, 0.86550000000000005, 0.876, 0.89049999999999996, 0.88549999999999995, 0.89349999999999996, 0.90249999999999997, 0.89800000000000002, 0.91100000000000003, 0.92000000000000004]\n",
    "loss_array = [1.5634963861703872, 1.3101546764373779, 1.3389599814414979, 0.9770810330510139, 0.90527572575211523, 0.77679392026364802, 0.70273019789159297, 0.66951325211301449, 0.53929746384918686, 0.47854575932025911, 0.48957985889911654, 0.40410763838887215, 0.37995399814844133, 0.34014862793684003, 0.38376239252462985, 0.33013378190994264, 0.33610362323373555, 0.31462397079169752, 0.29526432225108146, 0.28285194587707518]"
   ]
  },
  {
   "cell_type": "code",
   "execution_count": 7,
   "metadata": {},
   "outputs": [
    {
     "data": {
      "image/png": "[encoded data removed]",
      "text/plain": [
       "<matplotlib.figure.Figure at 0x7fb58004d950>"
      ]
     },
     "metadata": {},
     "output_type": "display_data"
    },
    {
     "data": {
      "text/plain": [
       "<matplotlib.figure.Figure at 0x7fb51b99c790>"
      ]
     },
     "metadata": {},
     "output_type": "display_data"
    }
   ],
   "source": [
    "generate_size_graph(1, training_set_size, accuracy_array, loss_array, min(training_set_size), max(training_set_size))"
   ]
  },
  {
   "cell_type": "markdown",
   "metadata": {},
   "source": [
    "### Comparison Graph Experiment 1 & 2 "
   ]
  },
  {
   "cell_type": "code",
   "execution_count": 10,
   "metadata": {},
   "outputs": [
    {
     "data": {
      "image/png": "[encoded data removed]",
      "text/plain": [
       "<matplotlib.figure.Figure at 0x7face9a3ca10>"
      ]
     },
     "metadata": {},
     "output_type": "display_data"
    },
    {
     "data": {
      "text/plain": [
       "<matplotlib.figure.Figure at 0x7face97b28d0>"
      ]
     },
     "metadata": {},
     "output_type": "display_data"
    }
   ],
   "source": [
    "training_set_size = range(2000, 18000, 2000)\n",
    "#accuracy_exp1 = [0.62350000000000005, 0.70050000000000001, 0.77649999999999997, 0.81100000000000005, 0.83199999999999996, 0.84850000000000003, 0.872]\n",
    "#accuracy_exp2 = [0.67049999999999998, 0.77000000000000002, 0.80600000000000005, 0.84075, 0.85099999999999998, 0.86899999999999999, 0.874]\n",
    "accuracy_exp1 = [0.62350000000000005, 0.70050000000000001, 0.77649999999999997, 0.81100000000000005, 0.83199999999999996, 0.84850000000000003, 0.872, 0.85850000000000004]\n",
    "accuracy_exp2 = [0.67049999999999998, 0.77000000000000002, 0.80600000000000005, 0.84075, 0.85099999999999998, 0.86899999999999999, 0.874, 0.88375000000000004] \n",
    "generate_size_graph(1, training_set_size, accuracy_exp1, accuracy_exp2, min(training_set_size), max(training_set_size))"
   ]
  },
  {
   "cell_type": "markdown",
   "metadata": {},
   "source": [
    "### Experiment 2 Accuracy/Loss Graph\n",
    "\n",
    "From 6000 images onwards performance improvement slows down significantly."
   ]
  },
  {
   "cell_type": "code",
   "execution_count": 9,
   "metadata": {},
   "outputs": [
    {
     "data": {
      "image/png": "[encoded data removed]",
      "text/plain": [
       "<matplotlib.figure.Figure at 0x7face9a2bed0>"
      ]
     },
     "metadata": {},
     "output_type": "display_data"
    },
    {
     "data": {
      "text/plain": [
       "<matplotlib.figure.Figure at 0x7face98eaf10>"
      ]
     },
     "metadata": {},
     "output_type": "display_data"
    }
   ],
   "source": [
    "training_set_size = [500, 1000, 1500, 2000, 2500, 3000, 3500, 4000, 4500, 5000, 5500, 6000, 6500, 7000, 7500, 8000, 8500, 9000, 9500, 10000, 10500, 11000, 11500, 12000, 12500, 13000, 13500, 14000, 14500, 15000, 15500, 16000, 16500]\n",
    "accuracy = [0.51249999999999996, 0.62250000000000005, 0.64975000000000005, 0.67049999999999998, 0.70074999999999998, 0.72250000000000003, 0.752, 0.77000000000000002, 0.77300000000000002, 0.79000000000000004, 0.80100000000000005, 0.80600000000000005, 0.81225000000000003, 0.82374999999999998, 0.82499999999999996, 0.84075, 0.83674999999999999, 0.84325000000000006, 0.84975000000000001, 0.85099999999999998, 0.85475000000000001, 0.86324999999999996, 0.86550000000000005, 0.86899999999999999, 0.86850000000000005, 0.87450000000000006, 0.878, 0.874, 0.87575000000000003, 0.878, 0.88124999999999998, 0.88375000000000004, 0.88575000000000004]\n",
    "loss = [1.7195220189392566, 1.2539361299872398, 1.4456731276512147, 1.5841358249187469, 1.4523598279953003, 1.2858898857235908, 1.0826573655605316, 0.95096716737747189, 1.0279206389188766, 0.83582639348506926, 0.77082849466800685, 0.78607614052295682, 0.70489064145088198, 0.6361833238601684, 0.65552988266944889, 0.59045365494489666, 0.65322115015983584, 0.58612769988179203, 0.58330657976865763, 0.57694315390288831, 0.56637989145517353, 0.55384470999240876, 0.55002875725924971, 0.49424531427025797, 0.53553130982816222, 0.5036324218511582, 0.48521394772827625, 0.48355614431947469, 0.48614467553049329, 0.48374564042687418, 0.45046025936305523, 0.45528628567606211, 0.44116007470898333]\n",
    "generate_size_graph_al(1, training_set_size, accuracy, loss, min(training_set_size), max(training_set_size))"
   ]
  },
  {
   "cell_type": "markdown",
   "metadata": {},
   "source": [
    "### Comparison Experiment 1 & Experiment 2 - 8000 Images"
   ]
  },
  {
   "cell_type": "code",
   "execution_count": 8,
   "metadata": {},
   "outputs": [
    {
     "data": {
      "image/png": "[encoded data removed]",
      "text/plain": [
       "<matplotlib.figure.Figure at 0x7face9a8c990>"
      ]
     },
     "metadata": {},
     "output_type": "display_data"
    },
    {
     "data": {
      "text/plain": [
       "<matplotlib.figure.Figure at 0x7face99ebd10>"
      ]
     },
     "metadata": {},
     "output_type": "display_data"
    }
   ],
   "source": [
    "training_set_size = range(2000, 10000, 2000)\n",
    "accuracy_exp1 = [0.62350000000000005, 0.70050000000000001, 0.77649999999999997, 0.81100000000000005]\n",
    "accuracy_exp2 = [0.67049999999999998, 0.77000000000000002, 0.80600000000000005, 0.84075]\n",
    "generate_size_graph(1, training_set_size, accuracy_exp1, accuracy_exp2, min(training_set_size), max(training_set_size))"
   ]
  },
  {
   "cell_type": "markdown",
   "metadata": {},
   "source": [
    "### Comparison Experiment 1 & Experiment 2  > 0.8 performance"
   ]
  },
  {
   "cell_type": "code",
   "execution_count": null,
   "metadata": {
    "collapsed": true
   },
   "outputs": [],
   "source": [
    "training_size = range(2000, 20000, 2000)\n",
    "accuracy_exp1 = [0.62350000000000005, 0.70050000000000001, 0.77649999999999997, 0.81100000000000005, 0.83199999999999996, 0.84850000000000003, 0.872, 0.85850000000000004, 0.86050000000000004]\n",
    "accuracy_exp2 = [0.67049999999999998, 0.77000000000000002, 0.80600000000000005, 0.84075, 0.85099999999999998, 0.86899999999999999, 0.874,0.88375000000000004,0.89375000000000004] "
   ]
  },
  {
   "cell_type": "code",
   "execution_count": 5,
   "metadata": {},
   "outputs": [
    {
     "ename": "TypeError",
     "evalue": "can only concatenate list (not \"float\") to list",
     "output_type": "error",
     "traceback": [
      "\u001b[0;31m---------------------------------------------------------------------------\u001b[0m",
      "\u001b[0;31mTypeError\u001b[0m                                 Traceback (most recent call last)",
      "\u001b[0;32m<ipython-input-5-dba677aa467f>\u001b[0m in \u001b[0;36m<module>\u001b[0;34m()\u001b[0m\n\u001b[1;32m     16\u001b[0m \u001b[0mfig\u001b[0m\u001b[0;34m,\u001b[0m \u001b[0max\u001b[0m \u001b[0;34m=\u001b[0m \u001b[0mplt\u001b[0m\u001b[0;34m.\u001b[0m\u001b[0msubplots\u001b[0m\u001b[0;34m(\u001b[0m\u001b[0;34m)\u001b[0m\u001b[0;34m\u001b[0m\u001b[0m\n\u001b[1;32m     17\u001b[0m \u001b[0max\u001b[0m\u001b[0;34m.\u001b[0m\u001b[0mbarh\u001b[0m\u001b[0;34m(\u001b[0m\u001b[0mtraining_size\u001b[0m\u001b[0;34m,\u001b[0m \u001b[0mdf\u001b[0m\u001b[0;34m.\u001b[0m\u001b[0mexp1\u001b[0m\u001b[0;34m,\u001b[0m \u001b[0mwidth\u001b[0m\u001b[0;34m,\u001b[0m \u001b[0mcolor\u001b[0m\u001b[0;34m=\u001b[0m\u001b[0;34m'red'\u001b[0m\u001b[0;34m,\u001b[0m \u001b[0mlabel\u001b[0m\u001b[0;34m=\u001b[0m\u001b[0;34m'N'\u001b[0m\u001b[0;34m)\u001b[0m\u001b[0;34m\u001b[0m\u001b[0m\n\u001b[0;32m---> 18\u001b[0;31m \u001b[0max\u001b[0m\u001b[0;34m.\u001b[0m\u001b[0mbarh\u001b[0m\u001b[0;34m(\u001b[0m\u001b[0mtraining_size\u001b[0m \u001b[0;34m+\u001b[0m \u001b[0mwidth\u001b[0m\u001b[0;34m,\u001b[0m \u001b[0mdf\u001b[0m\u001b[0;34m.\u001b[0m\u001b[0mexp2\u001b[0m\u001b[0;34m,\u001b[0m \u001b[0mwidth\u001b[0m\u001b[0;34m,\u001b[0m \u001b[0mcolor\u001b[0m\u001b[0;34m=\u001b[0m\u001b[0;34m'green'\u001b[0m\u001b[0;34m,\u001b[0m \u001b[0mlabel\u001b[0m\u001b[0;34m=\u001b[0m\u001b[0;34m'M'\u001b[0m\u001b[0;34m)\u001b[0m\u001b[0;34m\u001b[0m\u001b[0m\n\u001b[0m\u001b[1;32m     19\u001b[0m \u001b[0;34m\u001b[0m\u001b[0m\n\u001b[1;32m     20\u001b[0m \u001b[0max\u001b[0m\u001b[0;34m.\u001b[0m\u001b[0mset\u001b[0m\u001b[0;34m(\u001b[0m\u001b[0myticks\u001b[0m\u001b[0;34m=\u001b[0m\u001b[0mtraining_size\u001b[0m \u001b[0;34m+\u001b[0m \u001b[0mwidth\u001b[0m\u001b[0;34m,\u001b[0m \u001b[0myticklabels\u001b[0m\u001b[0;34m=\u001b[0m\u001b[0mdf\u001b[0m\u001b[0;34m.\u001b[0m\u001b[0mgraph\u001b[0m\u001b[0;34m,\u001b[0m \u001b[0mylim\u001b[0m\u001b[0;34m=\u001b[0m\u001b[0;34m[\u001b[0m\u001b[0;36m2\u001b[0m\u001b[0;34m*\u001b[0m\u001b[0mwidth\u001b[0m \u001b[0;34m-\u001b[0m \u001b[0;36m1\u001b[0m\u001b[0;34m,\u001b[0m \u001b[0mlen\u001b[0m\u001b[0;34m(\u001b[0m\u001b[0mdf\u001b[0m\u001b[0;34m)\u001b[0m\u001b[0;34m]\u001b[0m\u001b[0;34m)\u001b[0m\u001b[0;34m\u001b[0m\u001b[0m\n",
      "\u001b[0;31mTypeError\u001b[0m: can only concatenate list (not \"float\") to list"
     ]
    },
    {
     "data": {
      "image/png": "[encoded data removed]",
      "text/plain": [
       "<matplotlib.figure.Figure at 0x7fb638399d10>"
      ]
     },
     "metadata": {},
     "output_type": "display_data"
    }
   ],
   "source": [
    "import pandas\n",
    "import matplotlib.pyplot as plt\n",
    "import numpy as np\n",
    "\n",
    "# df = pandas.DataFrame(dict(graph=['Item one', 'Item two', 'Item three'],\n",
    "#                            n=[3, 5, 2], m=[6, 1, 3])) \n",
    "df = pandas.DataFrame(dict(graph=[0.5,0.55, 0.6,0.65,0.7,0.75,0.8,0.85,0.9],\n",
    "                           exp1=[0.62350000000000005, 0.70050000000000001, 0.77649999999999997, 0.81100000000000005, 0.83199999999999996, 0.84850000000000003, 0.872, 0.85850000000000004, 0.86050000000000004],\n",
    "                           exp2=[0.67049999999999998, 0.77000000000000002, 0.80600000000000005, 0.84075, 0.85099999999999998, 0.86899999999999999, 0.874,0.88375000000000004,0.89375000000000004] )) \n",
    "\n",
    "\n",
    "#ind = np.arange(len(df))\n",
    "training_size = range(2000, 20000, 2000)\n",
    "width = 0.4\n",
    "\n",
    "fig, ax = plt.subplots()\n",
    "ax.barh(training_size, df.exp1, width, color='red', label='N')\n",
    "ax.barh(training_size + width, df.exp2, width, color='green', label='M')\n",
    "\n",
    "ax.set(yticks=training_size + width, yticklabels=df.graph, ylim=[2*width - 1, len(df)])\n",
    "ax.legend()\n",
    "\n",
    "plt.show()"
   ]
  },
  {
   "cell_type": "code",
   "execution_count": 13,
   "metadata": {},
   "outputs": [
    {
     "data": {
      "image/png": "[encoded data removed]",
      "text/plain": [
       "<matplotlib.figure.Figure at 0x7fb6352882d0>"
      ]
     },
     "metadata": {},
     "output_type": "display_data"
    }
   ],
   "source": [
    "import numpy as np\n",
    "import matplotlib.pyplot as plt\n",
    "\n",
    "N = 9\n",
    "men_means = (0.62350000000000005, 0.70050000000000001, 0.77649999999999997, 0.81100000000000005, 0.83199999999999996, 0.84850000000000003, 0.872, 0.85850000000000004, 0.86050000000000004)\n",
    "#men_std = (2, 3, 4, 1, 2)\n",
    "\n",
    "ind = np.arange(N)  # the x locations for the groups\n",
    "width = 0.35       # the width of the bars\n",
    "\n",
    "fig, ax = plt.subplots()\n",
    "rects1 = ax.bar(ind, men_means, width, color='r')\n",
    "\n",
    "women_means = (0.67049999999999998, 0.77000000000000002, 0.80600000000000005, 0.84075, 0.85099999999999998, 0.86899999999999999, 0.874,0.88375000000000004,0.89375000000000004)\n",
    "#women_std = (3, 5, 2, 3, 3)\n",
    "rects2 = ax.bar(ind + width, women_means, width, color='y')\n",
    "\n",
    "# add some text for labels, title and axes ticks\n",
    "ax.set_ylabel('Scores')\n",
    "ax.set_title('Scores by group and gender')\n",
    "ax.set_xticks(ind + width / 2)\n",
    "ax.set_xticklabels((0.5,0.55, 0.6,0.65,0.7,0.75,0.8,0.85,0.9))\n",
    "\n",
    "ax.legend((rects1[0], rects2[0]), ('Men', 'Women'))\n",
    "\n",
    "\n",
    "def autolabel(rects):\n",
    "    \"\"\"\n",
    "    Attach a text label above each bar displaying its height\n",
    "    \"\"\"\n",
    "    for rect in rects:\n",
    "        height = rect.get_height()\n",
    "        ax.text(rect.get_x() + rect.get_width()/2., 1.05*height,\n",
    "                '%d' % int(height),\n",
    "                ha='center', va='bottom')\n",
    "\n",
    "#autolabel(rects1)\n",
    "#autolabel(rects2)\n",
    "\n",
    "plt.show()"
   ]
  },
  {
   "cell_type": "code",
   "execution_count": 15,
   "metadata": {},
   "outputs": [
    {
     "data": {
      "text/plain": [
       "array([0, 1, 2, 3, 4, 5, 6, 7, 8])"
      ]
     },
     "execution_count": 15,
     "metadata": {},
     "output_type": "execute_result"
    }
   ],
   "source": [
    "np.arange(9)"
   ]
  },
  {
   "cell_type": "code",
   "execution_count": null,
   "metadata": {
    "collapsed": true
   },
   "outputs": [],
   "source": [
    "Training Set Size:[2000, 4000, 6000, 8000, 10000, 12000, 14000]\n",
    "Accuracy:         [0.62, 0.70, 0.77, 0.81, 0.84,  0.85, 0.87]\n",
    "    \n",
    "Training Set Size:[1000, 2500, 4000, 6000, 8000,9500, 11500]\n",
    "Accuracy:         [0.62, 0.70, 0.77,0.81, 0.84, 0.85, 0.87]"
   ]
  },
  {
   "cell_type": "code",
   "execution_count": null,
   "metadata": {
    "collapsed": true
   },
   "outputs": [],
   "source": [
    "training_exp1 = [2000, 4000, 6000, 8000, 10000, 12000, 14000]\n",
    "training_exp2 = [1000, 2500, 4000, 6000, 8000,9500, 11500]\n",
    "accuracy =      [0.62, 0.70, 0.77,0.81, 0.84, 0.85, 0.87]\n"
   ]
  },
  {
   "cell_type": "code",
   "execution_count": 1,
   "metadata": {},
   "outputs": [
    {
     "data": {
      "image/png": "[encoded data removed]",
      "text/plain": [
       "<matplotlib.figure.Figure at 0x7f64040b7450>"
      ]
     },
     "metadata": {},
     "output_type": "display_data"
    }
   ],
   "source": [
    "import pandas\n",
    "import matplotlib.pyplot as plt\n",
    "import numpy as np\n",
    "\n",
    "df = pandas.DataFrame(dict(graph=['0.62', '0.70', '0.77', '0.81', '0.84', '0.85', '0.87'],\n",
    "                           exp1=[2000, 4000, 6000, 8000, 10000, 12000, 14000], \n",
    "                           exp2=[1000, 2500, 4000, 6000, 8000,9500, 11500])) \n",
    "\n",
    "ind = np.arange(len(df))\n",
    "width = 0.4\n",
    "\n",
    "fig, ax = plt.subplots()\n",
    "ax.barh(ind, df.exp1, width, color='red', label='Standard Learning')\n",
    "ax.barh(ind + width, df.exp2, width, color='green', label='Active Learning')\n",
    "\n",
    "ax.set(yticks=ind + width, yticklabels=df.graph, ylim=[2*width - 1, len(df)])\n",
    "ax.legend()\n",
    "\n",
    "plt.show()"
   ]
  },
  {
   "cell_type": "code",
   "execution_count": null,
   "metadata": {
    "collapsed": true
   },
   "outputs": [],
   "source": []
  }
 ],
 "metadata": {
  "kernelspec": {
   "display_name": "Python 2",
   "language": "python",
   "name": "python2"
  },
  "language_info": {
   "codemirror_mode": {
    "name": "ipython",
    "version": 2
   },
   "file_extension": ".py",
   "mimetype": "text/x-python",
   "name": "python",
   "nbconvert_exporter": "python",
   "pygments_lexer": "ipython2",
   "version": "2.7.13"
  }
 },
 "nbformat": 4,
 "nbformat_minor": 2
}
