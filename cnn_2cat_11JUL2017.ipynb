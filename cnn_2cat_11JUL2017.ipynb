{
 "cells": [
  {
   "cell_type": "code",
   "execution_count": 1,
   "metadata": {},
   "outputs": [
    {
     "name": "stdout",
     "output_type": "stream",
     "text": [
      "/home/asaeed9/work/deeplearning\n"
     ]
    }
   ],
   "source": [
    "%cd ~/work/deeplearning/"
   ]
  },
  {
   "cell_type": "markdown",
   "metadata": {},
   "source": [
    "## Headers"
   ]
  },
  {
   "cell_type": "code",
   "execution_count": 2,
   "metadata": {},
   "outputs": [
    {
     "name": "stderr",
     "output_type": "stream",
     "text": [
      "WARNING (theano.sandbox.cuda): The cuda backend is deprecated and will be removed in the next release (v0.10).  Please switch to the gpuarray backend. You can get more information about how to switch at this URL:\n",
      " https://github.com/Theano/Theano/wiki/Converting-to-the-new-gpu-back-end%28gpuarray%29\n",
      "\n",
      "ERROR (theano.sandbox.cuda): ERROR: Not using GPU. Initialisation of device 1 failed:\n",
      "Bad device number 1. Only 1 devices available.\n",
      "WARNING (theano.sandbox.cuda): The cuda backend is deprecated and will be removed in the next release (v0.10).  Please switch to the gpuarray backend. You can get more information about how to switch at this URL:\n",
      " https://github.com/Theano/Theano/wiki/Converting-to-the-new-gpu-back-end%28gpuarray%29\n",
      "\n",
      "Using gpu device 0: GeForce GTX 980 Ti (CNMeM is disabled, cuDNN 5105)\n",
      "WARNING (theano.sandbox.cuda): The cuda backend is deprecated and will be removed in the next release (v0.10).  Please switch to the gpuarray backend. You can get more information about how to switch at this URL:\n",
      " https://github.com/Theano/Theano/wiki/Converting-to-the-new-gpu-back-end%28gpuarray%29\n",
      "\n",
      "WARNING (theano.sandbox.cuda): Ignoring call to use(1), GPU number 0 is already in use.\n",
      "Using Theano backend.\n"
     ]
    }
   ],
   "source": [
    "from theano.sandbox import cuda\n",
    "cuda.use('gpu1')\n",
    "%matplotlib inline\n",
    "from __future__ import print_function, division\n",
    "#path=\"../data/2cat/sample\"\n",
    "import utils; reload(utils)\n",
    "from utils import *\n",
    "from IPython.display import FileLink\n",
    "from keras.preprocessing import image, sequence\n",
    "import os, sys, cv2\n",
    "from shutil import copyfile\n",
    "\n",
    "####\n",
    "from keras.layers.convolutional import *\n",
    "from keras.layers.core import Flatten, Dense, Dropout, Lambda\n",
    "from keras.optimizers import SGD, RMSprop, Adam"
   ]
  },
  {
   "cell_type": "code",
   "execution_count": 3,
   "metadata": {},
   "outputs": [
    {
     "name": "stdout",
     "output_type": "stream",
     "text": [
      "/home/asaeed9/work/data/2cat/train\n"
     ]
    }
   ],
   "source": [
    "data_dir=\"/home/asaeed9/work/data/2cat\"\n",
    "path=\"/home/asaeed9/work/data/2cat/sample/\"\n",
    "results_path = \"/home/asaeed9/work/data/2cat/sample/results\"\n",
    "test_path = path + '/test/' #We use all the test data\n",
    "%cd ../data/2cat/train"
   ]
  },
  {
   "cell_type": "markdown",
   "metadata": {},
   "source": [
    "## Data Preparation"
   ]
  },
  {
   "cell_type": "code",
   "execution_count": 4,
   "metadata": {
    "collapsed": true
   },
   "outputs": [],
   "source": [
    "#grey images - minimal image augmentation\n",
    "\n",
    "#clean previous data\n",
    "def adjust_prev_data():\n",
    "    %mv $data_dir/valid/* $data_dir/train/\n",
    "    \n",
    "    %rm $path/train/cats/*\n",
    "    %rm $path/train/dogs/*\n",
    "    %rm $path/valid/cats/*\n",
    "    %rm $path/valid/dogs/*\n",
    "\n",
    "#copy training images\n",
    "def copy_samples(train, validation):\n",
    "    \n",
    "    #clean previous data\n",
    "    adjust_prev_data()\n",
    "    \n",
    "    #build validation set\n",
    "    g = glob('*.jpg')\n",
    "    shuf = np.random.permutation(g)\n",
    "    for i in range(validation): os.rename(shuf[i], '../valid/' + shuf[i]) \n",
    "    \n",
    "    g = glob('*.jpg')\n",
    "    shuf = np.random.permutation(g)\n",
    "    for i in range(train): copyfile(shuf[i], '../sample/train/' + shuf[i]) \n",
    "    %mv ../sample/train/cat*.jpg ../sample/train/cats/\n",
    "    %mv ../sample/train/dog*.jpg ../sample/train/dogs/\n",
    "    \n",
    "    %cd ../valid\n",
    "\n",
    "    g = glob('*.jpg')\n",
    "    shuf = np.random.permutation(g)\n",
    "    for i in range(validation): copyfile(shuf[i], '../sample/valid/' + shuf[i]) \n",
    "    %mv ../sample/valid/cat*.jpg ../sample/valid/cats/\n",
    "    %mv ../sample/valid/dog*.jpg ../sample/valid/dogs/\n",
    "    %cd $data_dir/train\n",
    "\n",
    "def onehot(x): return np.array(OneHotEncoder().fit_transform(x.reshape(-1,1)).todense())\n",
    "\n",
    "def pred_batch(imgs, classes):\n",
    "    preds = model.predict(imgs)\n",
    "    idxs = np.argmax(preds, axis=1)\n",
    "\n",
    "    print('Shape: {}'.format(preds.shape))\n",
    "    print('First 5 classes: {}'.format(classes[:5]))\n",
    "    print('First 5 probabilities: {}\\n'.format(preds[:5]))\n",
    "    print('Predictions prob/class: ')\n",
    "    \n",
    "    for i in range(len(idxs)):\n",
    "        idx = idxs[i]\n",
    "        print ('  {:.4f}/{}'.format(preds[i, idx], classes[idx]))\n",
    "\n",
    "\n",
    "def generate_size_graph(fig_no, training_size, accuracy, loss, start_size, end_size):\n",
    "    plt.figure(fig_no,figsize=(7,5))\n",
    "    plt.plot(training_size,accuracy)\n",
    "    plt.plot(training_size,loss)\n",
    "    plt.xlabel('Training Size')\n",
    "    plt.ylabel('Accuracy/Loss')\n",
    "    plt.title('Training Size vs Accuracy/Loss')\n",
    "    plt.grid(True)\n",
    "    plt.legend(['Accuracy','Loss'])\n",
    "    plt.style.use(['classic'])\n",
    "    plt.show()\n",
    "    plt.savefig(path + '/batch_graphs/' +  str(start_size) + '_' + str(end_size) + '.jpg') \n",
    "        \n",
    "def generate_graph(fig_no, epochs, train, val, label, train_title, val_title, train_size):\n",
    "    plt.figure(fig_no,figsize=(7,5))\n",
    "    plt.plot(epochs,train)\n",
    "    plt.plot(epochs,val)\n",
    "    plt.xlabel('num of Epochs')\n",
    "    plt.ylabel(label)\n",
    "    plt.title(train_title + ' vs ' + val_title + '( Samples:' + str(train_size) + ')')\n",
    "    plt.grid(True)\n",
    "    plt.legend(['train','val'])\n",
    "    plt.style.use(['classic'])\n",
    "    plt.show()\n",
    "    plt.savefig(results_path + '/batch_graphs/' +  label + '_' + str(train_size) + '.jpg') \n",
    "    \n",
    "def get_train_model(tr_batches, val_batches, epoch):\n",
    "    model = Sequential([\n",
    "            BatchNormalization(axis=1, input_shape=(3, 256,256)),\n",
    "            Convolution2D(32,3,3, activation='relu'),\n",
    "            BatchNormalization(axis=1),\n",
    "            MaxPooling2D((3,3)),\n",
    "            Dropout(0.2),\n",
    "#             Convolution2D(64,3,3, activation='relu'),\n",
    "#             BatchNormalization(axis=1),\n",
    "            #MaxPooling2D((3,3)),\n",
    "            Convolution2D(64,3,3, activation='relu'),\n",
    "            BatchNormalization(axis=1),\n",
    "            MaxPooling2D((3,3)),\n",
    "            Dropout(0.2),\n",
    "            Convolution2D(32,3,3, activation='relu'),\n",
    "            BatchNormalization(axis=1),\n",
    "            MaxPooling2D((3,3)),\n",
    "            Dropout(0.2),\n",
    "            Flatten(),\n",
    "            Dense(1024, activation='relu'),\n",
    "            BatchNormalization(),\n",
    "            Dropout(0.2),\n",
    "            Dense(2, activation='softmax')\n",
    "        ])\n",
    "\n",
    "    model.compile(Adam(lr=1e-4), loss='categorical_crossentropy', metrics=['accuracy'])\n",
    "    model.fit_generator(tr_batches, tr_batches.nb_sample, nb_epoch=2, validation_data=val_batches, \n",
    "                     nb_val_samples=val_batches.nb_sample)\n",
    "    model.optimizer.lr = 0.001\n",
    "    model.fit_generator(tr_batches, tr_batches.nb_sample, nb_epoch=epoch - 2, validation_data=val_batches, \n",
    "                     nb_val_samples=val_batches.nb_sample)\n",
    "    return model \n",
    "\n",
    "def get_test_model():\n",
    "    model = Sequential([\n",
    "                BatchNormalization(axis=1, input_shape=(3,256,256)),\n",
    "                Convolution2D(32,3,3, activation='relu'),\n",
    "                BatchNormalization(axis=1),\n",
    "                MaxPooling2D((3,3)),\n",
    "    #             Convolution2D(64,3,3, activation='relu'),\n",
    "    #             BatchNormalization(axis=1),\n",
    "                #MaxPooling2D((3,3)),\n",
    "                Convolution2D(64,3,3, activation='relu'),\n",
    "                BatchNormalization(axis=1),\n",
    "                MaxPooling2D((3,3)),\n",
    "                Convolution2D(32,3,3, activation='relu'),\n",
    "                BatchNormalization(axis=1),\n",
    "                MaxPooling2D((3,3)),\n",
    "                Flatten(),\n",
    "                Dense(1024, activation='relu'),\n",
    "                BatchNormalization(),\n",
    "                Dense(2, activation='softmax')\n",
    "            ])\n",
    "\n",
    "    model.compile(Adam(lr=1e-4), loss='categorical_crossentropy', metrics=['accuracy'])  \n",
    "    \n",
    "    return model"
   ]
  },
  {
   "cell_type": "markdown",
   "metadata": {},
   "source": [
    "### Training"
   ]
  },
  {
   "cell_type": "code",
   "execution_count": 5,
   "metadata": {},
   "outputs": [
    {
     "name": "stdout",
     "output_type": "stream",
     "text": [
      "/home/asaeed9/work/data/2cat/train\n",
      "sample size: 15000\n",
      "/home/asaeed9/work/data/2cat/valid\n",
      "/home/asaeed9/work/data/2cat/train\n",
      "Found 15000 images belonging to 2 classes.\n",
      "Found 3000 images belonging to 2 classes.\n",
      "Epoch 1/2\n",
      "15000/15000 [==============================] - 246s - loss: 0.8235 - acc: 0.6261 - val_loss: 0.9528 - val_acc: 0.6177\n",
      "Epoch 2/2\n",
      "15000/15000 [==============================] - 239s - loss: 0.6727 - acc: 0.6744 - val_loss: 1.3001 - val_acc: 0.6390\n",
      "Epoch 1/48\n",
      "15000/15000 [==============================] - 247s - loss: 0.6017 - acc: 0.7038 - val_loss: 1.3041 - val_acc: 0.6457\n",
      "Epoch 2/48\n",
      "15000/15000 [==============================] - 242s - loss: 0.5688 - acc: 0.7198 - val_loss: 1.1035 - val_acc: 0.6450\n",
      "Epoch 3/48\n",
      "15000/15000 [==============================] - 241s - loss: 0.5346 - acc: 0.7372 - val_loss: 1.1567 - val_acc: 0.6697\n",
      "Epoch 4/48\n",
      "15000/15000 [==============================] - 241s - loss: 0.5206 - acc: 0.7477 - val_loss: 1.1976 - val_acc: 0.6863\n",
      "Epoch 5/48\n",
      "15000/15000 [==============================] - 242s - loss: 0.4992 - acc: 0.7551 - val_loss: 0.8865 - val_acc: 0.7320\n",
      "Epoch 6/48\n",
      "15000/15000 [==============================] - 242s - loss: 0.4836 - acc: 0.7713 - val_loss: 0.7191 - val_acc: 0.7483\n",
      "Epoch 7/48\n",
      "15000/15000 [==============================] - 247s - loss: 0.4680 - acc: 0.7804 - val_loss: 0.6514 - val_acc: 0.7643\n",
      "Epoch 8/48\n",
      "15000/15000 [==============================] - 242s - loss: 0.4523 - acc: 0.7853 - val_loss: 0.6431 - val_acc: 0.7613\n",
      "Epoch 9/48\n",
      "15000/15000 [==============================] - 245s - loss: 0.4431 - acc: 0.7938 - val_loss: 0.5662 - val_acc: 0.7823\n",
      "Epoch 10/48\n",
      "15000/15000 [==============================] - 247s - loss: 0.4368 - acc: 0.7971 - val_loss: 0.5286 - val_acc: 0.7947\n",
      "Epoch 11/48\n",
      "15000/15000 [==============================] - 245s - loss: 0.4269 - acc: 0.8022 - val_loss: 0.5174 - val_acc: 0.7943\n",
      "Epoch 12/48\n",
      "15000/15000 [==============================] - 243s - loss: 0.4218 - acc: 0.8045 - val_loss: 0.6015 - val_acc: 0.7777\n",
      "Epoch 13/48\n",
      "15000/15000 [==============================] - 242s - loss: 0.4072 - acc: 0.8131 - val_loss: 0.4858 - val_acc: 0.8127\n",
      "Epoch 14/48\n",
      "15000/15000 [==============================] - 246s - loss: 0.4028 - acc: 0.8161 - val_loss: 0.5333 - val_acc: 0.7920\n",
      "Epoch 15/48\n",
      "15000/15000 [==============================] - 243s - loss: 0.3972 - acc: 0.8219 - val_loss: 0.5052 - val_acc: 0.8047\n",
      "Epoch 16/48\n",
      "15000/15000 [==============================] - 241s - loss: 0.3855 - acc: 0.8224 - val_loss: 0.5045 - val_acc: 0.8083\n",
      "Epoch 17/48\n",
      "15000/15000 [==============================] - 239s - loss: 0.3833 - acc: 0.8265 - val_loss: 0.4532 - val_acc: 0.8240\n",
      "Epoch 18/48\n",
      "15000/15000 [==============================] - 237s - loss: 0.3712 - acc: 0.8338 - val_loss: 0.4816 - val_acc: 0.8227\n",
      "Epoch 19/48\n",
      "15000/15000 [==============================] - 237s - loss: 0.3668 - acc: 0.8359 - val_loss: 0.5094 - val_acc: 0.8097\n",
      "Epoch 20/48\n",
      "15000/15000 [==============================] - 242s - loss: 0.3646 - acc: 0.8401 - val_loss: 0.4488 - val_acc: 0.8217\n",
      "Epoch 21/48\n",
      "15000/15000 [==============================] - 240s - loss: 0.3672 - acc: 0.8338 - val_loss: 0.4685 - val_acc: 0.8267\n",
      "Epoch 22/48\n",
      "15000/15000 [==============================] - 240s - loss: 0.3532 - acc: 0.8441 - val_loss: 0.4096 - val_acc: 0.8357\n",
      "Epoch 23/48\n",
      "15000/15000 [==============================] - 248s - loss: 0.3545 - acc: 0.8438 - val_loss: 0.4310 - val_acc: 0.8367\n",
      "Epoch 24/48\n",
      "15000/15000 [==============================] - 239s - loss: 0.3502 - acc: 0.8453 - val_loss: 0.4120 - val_acc: 0.8400\n",
      "Epoch 25/48\n",
      "15000/15000 [==============================] - 239s - loss: 0.3438 - acc: 0.8443 - val_loss: 0.4030 - val_acc: 0.8413\n",
      "Epoch 26/48\n",
      "15000/15000 [==============================] - 244s - loss: 0.3422 - acc: 0.8478 - val_loss: 0.3978 - val_acc: 0.8510\n",
      "Epoch 27/48\n",
      "15000/15000 [==============================] - 243s - loss: 0.3359 - acc: 0.8531 - val_loss: 0.3898 - val_acc: 0.8453\n",
      "Epoch 28/48\n",
      "15000/15000 [==============================] - 241s - loss: 0.3297 - acc: 0.8560 - val_loss: 0.4705 - val_acc: 0.8250\n",
      "Epoch 29/48\n",
      "15000/15000 [==============================] - 243s - loss: 0.3261 - acc: 0.8593 - val_loss: 0.3985 - val_acc: 0.8497\n",
      "Epoch 30/48\n",
      "15000/15000 [==============================] - 243s - loss: 0.3213 - acc: 0.8624 - val_loss: 0.4253 - val_acc: 0.8360\n",
      "Epoch 31/48\n",
      "15000/15000 [==============================] - 243s - loss: 0.3205 - acc: 0.8607 - val_loss: 0.4021 - val_acc: 0.8547\n",
      "Epoch 32/48\n",
      "15000/15000 [==============================] - 243s - loss: 0.3160 - acc: 0.8601 - val_loss: 0.4136 - val_acc: 0.8543\n",
      "Epoch 33/48\n",
      "15000/15000 [==============================] - 240s - loss: 0.3176 - acc: 0.8605 - val_loss: 0.3744 - val_acc: 0.8530\n",
      "Epoch 34/48\n",
      "15000/15000 [==============================] - 238s - loss: 0.3199 - acc: 0.8605 - val_loss: 0.3679 - val_acc: 0.8567\n",
      "Epoch 35/48\n",
      "15000/15000 [==============================] - 241s - loss: 0.3070 - acc: 0.8636 - val_loss: 0.4096 - val_acc: 0.8543\n",
      "Epoch 36/48\n",
      "15000/15000 [==============================] - 239s - loss: 0.3021 - acc: 0.8661 - val_loss: 0.3803 - val_acc: 0.8540\n",
      "Epoch 37/48\n",
      "15000/15000 [==============================] - 244s - loss: 0.2953 - acc: 0.8683 - val_loss: 0.3742 - val_acc: 0.8633\n",
      "Epoch 38/48\n",
      "15000/15000 [==============================] - 246s - loss: 0.2926 - acc: 0.8735 - val_loss: 0.4038 - val_acc: 0.8560\n",
      "Epoch 39/48\n",
      "15000/15000 [==============================] - 243s - loss: 0.2930 - acc: 0.8727 - val_loss: 0.3721 - val_acc: 0.8630\n",
      "Epoch 40/48\n",
      "15000/15000 [==============================] - 244s - loss: 0.2939 - acc: 0.8767 - val_loss: 0.4050 - val_acc: 0.8480\n",
      "Epoch 41/48\n",
      "15000/15000 [==============================] - 245s - loss: 0.2898 - acc: 0.8762 - val_loss: 0.3843 - val_acc: 0.8513\n",
      "Epoch 42/48\n",
      "15000/15000 [==============================] - 239s - loss: 0.2873 - acc: 0.8767 - val_loss: 0.3645 - val_acc: 0.8663\n",
      "Epoch 43/48\n",
      "15000/15000 [==============================] - 242s - loss: 0.2880 - acc: 0.8768 - val_loss: 0.3728 - val_acc: 0.8700\n",
      "Epoch 44/48\n",
      "15000/15000 [==============================] - 239s - loss: 0.2881 - acc: 0.8751 - val_loss: 0.3788 - val_acc: 0.8633\n",
      "Epoch 45/48\n",
      "15000/15000 [==============================] - 242s - loss: 0.2746 - acc: 0.8808 - val_loss: 0.4158 - val_acc: 0.8563\n",
      "Epoch 46/48\n",
      "15000/15000 [==============================] - 243s - loss: 0.2773 - acc: 0.8819 - val_loss: 0.3985 - val_acc: 0.8557\n",
      "Epoch 47/48\n",
      "15000/15000 [==============================] - 241s - loss: 0.2739 - acc: 0.8847 - val_loss: 0.3701 - val_acc: 0.8567\n",
      "Epoch 48/48\n",
      "15000/15000 [==============================] - 245s - loss: 0.2634 - acc: 0.8893 - val_loss: 0.3982 - val_acc: 0.8597\n"
     ]
    }
   ],
   "source": [
    "%cd $data_dir/train\n",
    "\n",
    "nepoch = 50\n",
    "batch_size = 16\n",
    "training_range = range(3000, 15001, 3000)\n",
    "#%rm $path/results/*\n",
    "\n",
    "gen_t = image.ImageDataGenerator(rotation_range=15, height_shift_range=0.05, \n",
    "                shear_range=0.1, channel_shift_range=20, width_shift_range=0.1)\n",
    "\n",
    "#for train in training_range:\n",
    "model = None\n",
    "train = 15000\n",
    "valid = int(math.floor(.2 * train))\n",
    "print('sample size: {}'.format(train))\n",
    "copy_samples(train, valid)\n",
    "\n",
    "tr_batches = gen_t.flow_from_directory(path + 'train', batch_size=batch_size)\n",
    "val_batches = gen_t.flow_from_directory(path + 'valid', class_mode='categorical', shuffle=True, batch_size=batch_size * 2)\n",
    "\n",
    "model = get_train_model(tr_batches, val_batches, nepoch)\n",
    "model.save_weights(results_path+ '/' + 'ft_' + str(train) + '.e' + str(nepoch))"
   ]
  },
  {
   "cell_type": "markdown",
   "metadata": {},
   "source": [
    "## Prediction"
   ]
  },
  {
   "cell_type": "code",
   "execution_count": 6,
   "metadata": {
    "collapsed": true
   },
   "outputs": [],
   "source": [
    "training_range = range(3000, 18001, 3000)"
   ]
  },
  {
   "cell_type": "code",
   "execution_count": 7,
   "metadata": {
    "scrolled": true
   },
   "outputs": [
    {
     "name": "stdout",
     "output_type": "stream",
     "text": [
      "\n",
      "File being processed: ft_15000.e50\n",
      "Found 3000 images belonging to 2 classes.\n",
      "2976/3000 [============================>.] - ETA: 0s\n",
      "Loss:0.233011357625, Accuracy:0.920333333492\n",
      "\n",
      "File being processed: ft_12000.e50\n",
      "Found 3000 images belonging to 2 classes.\n",
      "2976/3000 [============================>.] - ETA: 0s\n",
      "Loss:0.338880252699, Accuracy:0.879666666508\n",
      "\n",
      "File being processed: ft_18000.e50\n",
      "Found 3000 images belonging to 2 classes.\n",
      "2976/3000 [============================>.] - ETA: 0s\n",
      "Loss:0.202349482854, Accuracy:0.924\n",
      "\n",
      "File being processed: ft_3000.e50\n",
      "Found 3000 images belonging to 2 classes.\n",
      "2976/3000 [============================>.] - ETA: 0s\n",
      "Loss:0.768557558576, Accuracy:0.747333333492\n",
      "\n",
      "File being processed: ft_6000.e50\n",
      "Found 3000 images belonging to 2 classes.\n",
      "2976/3000 [============================>.] - ETA: 0s\n",
      "Loss:0.580998920759, Accuracy:0.825333333492\n",
      "\n",
      "File being processed: ft_9000.e50\n",
      "Found 3000 images belonging to 2 classes.\n",
      "3000/3000 [==============================] - 4s     \n",
      "\n",
      "Loss:0.342369473696, Accuracy:0.871\n"
     ]
    },
    {
     "data": {
      "image/png": "[encoded data removed]",
      "text/plain": [
       "<matplotlib.figure.Figure at 0x7f0354e68790>"
      ]
     },
     "metadata": {},
     "output_type": "display_data"
    },
    {
     "data": {
      "text/plain": [
       "<matplotlib.figure.Figure at 0x7f037330fdd0>"
      ]
     },
     "metadata": {},
     "output_type": "display_data"
    }
   ],
   "source": [
    "model = None\n",
    "model = get_test_model()\n",
    "loss_score = []\n",
    "accuracy_score = []\n",
    "training_size = training_range\n",
    "\n",
    "os.chdir(results_path)\n",
    "files = filter(os.path.isfile, os.listdir(results_path))\n",
    "files.sort(key=lambda x: os.path.getmtime(x))\n",
    "\n",
    "for f in files:\n",
    "    \n",
    "    print(\"\\nFile being processed: {}\".format(f))\n",
    "    \n",
    "    train_size = int(f[f.find('_')+1 : f.find('.')])\n",
    "    epoch = int(f[f.find('e')+1 : ])\n",
    "\n",
    "    model.load_weights(results_path+'/ft_' + str(train_size) + '.e' + str(epoch))\n",
    "    \n",
    "    gen_test = image.ImageDataGenerator()\n",
    "    test_batches = gen_test.flow_from_directory(path+'test', class_mode=None, target_size=(256,256), shuffle=False, batch_size=1)\n",
    "    test_data = np.concatenate([test_batches.next() for i in range(test_batches.nb_sample)])\n",
    "    test_labels = onehot(test_batches.classes)\n",
    "    score = model.evaluate(test_data, test_labels)\n",
    "    \n",
    "    loss_score.append(score[0])\n",
    "    accuracy_score.append(score[1])\n",
    "    \n",
    "    print(\"\\nLoss:{}, Accuracy:{}\".format(score[0], score[1]))\n",
    "\n",
    "#print(loss_score, accuracy_score)\n",
    "#fig_no, training_size, accuracy, loss, start_size, end_size\n",
    "generate_size_graph(1, training_size, accuracy_score, loss_score, min(training_size), max(training_size))"
   ]
  },
  {
   "cell_type": "code",
   "execution_count": 9,
   "metadata": {},
   "outputs": [
    {
     "data": {
      "text/plain": [
       "[0.92033333349227908,\n",
       " 0.87966666650772096,\n",
       " 0.92400000000000004,\n",
       " 0.74733333349227904,\n",
       " 0.825333333492279,\n",
       " 0.871]"
      ]
     },
     "execution_count": 9,
     "metadata": {},
     "output_type": "execute_result"
    }
   ],
   "source": [
    "accuracy_score = [0.747333333492, 0.825333333492, 0.871, 0.879666666508, 0.920333333492, 0.924]\n",
    "loss_score = [0.768557558576, 0.580998920759, 0.342369473696, ]"
   ]
  },
  {
   "cell_type": "code",
   "execution_count": null,
   "metadata": {
    "collapsed": true
   },
   "outputs": [],
   "source": [
    "generate_size_graph(1, training_size, accuracy_score, loss_score, min(training_size), max(training_size))"
   ]
  },
  {
   "cell_type": "code",
   "execution_count": null,
   "metadata": {
    "collapsed": true
   },
   "outputs": [],
   "source": [
    "def get_numpy_images(data_path):\n",
    "    data_dir_list = os.listdir(data_path)\n",
    "    img_data_list=[]\n",
    "    labels=[]\n",
    "\n",
    "    for dataset in data_dir_list:\n",
    "        img_list=os.listdir(data_path+'/'+ dataset)\n",
    "        print ('Loaded the images of dataset-'+'{}\\n'.format(dataset))\n",
    "        for img in img_list:\n",
    "\n",
    "            if 'cat' in img:\n",
    "                labels.append(0)\n",
    "            else:\n",
    "                labels.append(1)\n",
    "\n",
    "            input_img=cv2.imread(data_path + '/'+ dataset + '/'+ img )\n",
    "            #input_img=cv2.cvtColor(input_img, cv2.COLOR_BGR2GRAY)\n",
    "            print(type(input_img), input_img.shape)\n",
    "            input_img_resize=cv2.resize(input_img,(256,256))\n",
    "            print(type(input_img_resize), input_img_resize.shape)\n",
    "            exit(1)\n",
    "            img_data_list.append(input_img_resize)\n",
    "\n",
    "    img_data = np.array(img_data_list)\n",
    "    img_data = img_data.astype('float32')\n",
    "    return img_data, labels"
   ]
  },
  {
   "cell_type": "code",
   "execution_count": null,
   "metadata": {},
   "outputs": [],
   "source": [
    "test_img_data, test_labels = get_numpy_images(test_path)\n",
    "#test_img_data = np.expand_dims(test_img_data, axis=1)\n",
    "test_nsamples = test_img_data.shape[0]\n",
    "test_input_shape=test_img_data[0].shape\n",
    "\n",
    "test_Y = np_utils.to_categorical(test_labels, 2)"
   ]
  },
  {
   "cell_type": "code",
   "execution_count": null,
   "metadata": {},
   "outputs": [],
   "source": [
    "score = model.evaluate(test_img_data, test_Y, verbose=0)\n",
    "print('Test Loss:', score[0])\n",
    "print('Test accuracy:', score[1])"
   ]
  },
  {
   "cell_type": "code",
   "execution_count": null,
   "metadata": {
    "collapsed": true
   },
   "outputs": [],
   "source": [
    "model.predict_classes()"
   ]
  },
  {
   "cell_type": "code",
   "execution_count": null,
   "metadata": {
    "scrolled": true
   },
   "outputs": [],
   "source": [
    "filenames = test_batches.filenames\n",
    "np.set_printoptions(suppress=True, precision=4)\n",
    "print(filenames[:10])\n",
    "print(preds[:10])\n",
    "#our_labels = np.round(preds[:, 0])\n",
    "#our_labels[:10]\n",
    "#our_preds = preds[:, 1]"
   ]
  },
  {
   "cell_type": "code",
   "execution_count": null,
   "metadata": {},
   "outputs": [],
   "source": [
    "#print(preds[:10])\n",
    "filenames = test_batches.filenames\n",
    "np.set_printoptions(suppress=True, precision=4)\n",
    "filenames[:10]"
   ]
  },
  {
   "cell_type": "code",
   "execution_count": null,
   "metadata": {},
   "outputs": [],
   "source": [
    "expected_labels = get_test_labels(test_batches.filenames)"
   ]
  },
  {
   "cell_type": "code",
   "execution_count": null,
   "metadata": {
    "collapsed": true
   },
   "outputs": [],
   "source": []
  }
 ],
 "metadata": {
  "kernelspec": {
   "display_name": "Python 2",
   "language": "python",
   "name": "python2"
  },
  "language_info": {
   "codemirror_mode": {
    "name": "ipython",
    "version": 2
   },
   "file_extension": ".py",
   "mimetype": "text/x-python",
   "name": "python",
   "nbconvert_exporter": "python",
   "pygments_lexer": "ipython2",
   "version": "2.7.13"
  }
 },
 "nbformat": 4,
 "nbformat_minor": 2
}
