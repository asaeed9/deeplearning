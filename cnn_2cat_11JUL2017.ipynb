{
 "cells": [
  {
   "cell_type": "code",
   "execution_count": 1,
   "metadata": {},
   "outputs": [
    {
     "name": "stdout",
     "output_type": "stream",
     "text": [
      "/home/asaeed9/work/deeplearning\n"
     ]
    }
   ],
   "source": [
    "%cd ~/work/deeplearning/"
   ]
  },
  {
   "cell_type": "code",
   "execution_count": 2,
   "metadata": {},
   "outputs": [
    {
     "name": "stderr",
     "output_type": "stream",
     "text": [
      "WARNING (theano.sandbox.cuda): The cuda backend is deprecated and will be removed in the next release (v0.10).  Please switch to the gpuarray backend. You can get more information about how to switch at this URL:\n",
      " https://github.com/Theano/Theano/wiki/Converting-to-the-new-gpu-back-end%28gpuarray%29\n",
      "\n",
      "WARNING (theano.gof.compilelock): Overriding existing lock by dead process '31044' (I am process '25032')\n",
      "1 #include <Python.h>\n",
      "2 #include <iostream>\n",
      "3 #include \"theano_mod_helper.h\"\n",
      "4 #include \"cudnn.h\"\n",
      "5 //////////////////////\n",
      "6 ////  Support Code\n",
      "7 //////////////////////\n",
      "8 \n",
      "9 #if PY_MAJOR_VERSION >= 3\n",
      "10 #define PyInt_FromLong PyLong_FromLong\n",
      "11 #endif\n",
      "12 \n",
      "13 \n",
      "14     namespace {\n",
      "15     struct __struct_compiled_op_3442132e74e76f61361fb1c73112eef4 {\n",
      "16         PyObject* __ERROR;\n",
      "17 \n",
      "18         PyObject* storage_V1;\n",
      "19         \n",
      "20 \n",
      "21         __struct_compiled_op_3442132e74e76f61361fb1c73112eef4() {\n",
      "22             // This is only somewhat safe because we:\n",
      "23             //  1) Are not a virtual class\n",
      "24             //  2) Do not use any virtual classes in the members\n",
      "25             //  3) Deal with mostly POD and pointers\n",
      "26 \n",
      "27             // If this changes, we would have to revise this, but for\n",
      "28             // now I am tired of chasing segfaults because\n",
      "29             // initialization code had an error and some pointer has\n",
      "30             // a junk value.\n",
      "31             memset(this, 0, sizeof(*this));\n",
      "32         }\n",
      "33         ~__struct_compiled_op_3442132e74e76f61361fb1c73112eef4(void) {\n",
      "34             cleanup();\n",
      "35         }\n",
      "36 \n",
      "37         int init(PyObject* __ERROR, PyObject* storage_V1) {\n",
      "38             Py_XINCREF(storage_V1);\n",
      "39             this->storage_V1 = storage_V1;\n",
      "40             \n",
      "41 \n",
      "42 \n",
      "43             this->__ERROR = __ERROR;\n",
      "44             return 0;\n",
      "45         }\n",
      "46         void cleanup(void) {\n",
      "47             __label_1:\n",
      "48 \n",
      "49 double __DUMMY_1;\n",
      "50 __label_4:\n",
      "51 \n",
      "52 double __DUMMY_4;\n",
      "53 \n",
      "54             Py_XDECREF(this->storage_V1);\n",
      "55         }\n",
      "56         int run(void) {\n",
      "57             int __failure = 0;\n",
      "58             \n",
      "59     PyObject* py_V1;\n",
      "60     \n",
      "61         PyObject* V1;\n",
      "62         \n",
      "63 {\n",
      "64 \n",
      "65     py_V1 = Py_None;\n",
      "66     {Py_XINCREF(py_V1);}\n",
      "67     \n",
      "68         V1 = NULL;\n",
      "69         \n",
      "70 {\n",
      "71 // Op class DnnVersion\n",
      "72 \n",
      "73 #if defined(CUDNN_VERSION)\n",
      "74 V1 = PyTuple_Pack(2, PyInt_FromLong(CUDNN_VERSION), PyInt_FromLong(cudnnGetVersion()));\n",
      "75 #else\n",
      "76 V1 = PyInt_FromLong(-1);\n",
      "77 #endif\n",
      "78 __label_3:\n",
      "79 \n",
      "80 double __DUMMY_3;\n",
      "81 \n",
      "82 }\n",
      "83 __label_2:\n",
      "84 \n",
      "85     if (!__failure) {\n",
      "86       \n",
      "87         assert(py_V1->ob_refcnt > 1);\n",
      "88         Py_DECREF(py_V1);\n",
      "89         py_V1 = V1 ? V1 : Py_None;\n",
      "90         Py_INCREF(py_V1);\n",
      "91         \n",
      "92       PyObject* old = PyList_GET_ITEM(storage_V1, 0);\n",
      "93       {Py_XINCREF(py_V1);}\n",
      "94       PyList_SET_ITEM(storage_V1, 0, py_V1);\n",
      "95       {Py_XDECREF(old);}\n",
      "96     }\n",
      "97     \n",
      "98         Py_XDECREF(V1);\n",
      "99         \n",
      "100     {Py_XDECREF(py_V1);}\n",
      "101     \n",
      "102 double __DUMMY_2;\n",
      "103 \n",
      "104 }\n",
      "105 \n",
      "106             \n",
      "107         if (__failure) {\n",
      "108             // When there is a failure, this code puts the exception\n",
      "109             // in __ERROR.\n",
      "110             PyObject* err_type = NULL;\n",
      "111             PyObject* err_msg = NULL;\n",
      "112             PyObject* err_traceback = NULL;\n",
      "113             PyErr_Fetch(&err_type, &err_msg, &err_traceback);\n",
      "114             if (!err_type) {err_type = Py_None;Py_INCREF(Py_None);}\n",
      "115             if (!err_msg) {err_msg = Py_None; Py_INCREF(Py_None);}\n",
      "116             if (!err_traceback) {err_traceback = Py_None; Py_INCREF(Py_None);}\n",
      "117             PyObject* old_err_type = PyList_GET_ITEM(__ERROR, 0);\n",
      "118             PyObject* old_err_msg = PyList_GET_ITEM(__ERROR, 1);\n",
      "119             PyObject* old_err_traceback = PyList_GET_ITEM(__ERROR, 2);\n",
      "120             PyList_SET_ITEM(__ERROR, 0, err_type);\n",
      "121             PyList_SET_ITEM(__ERROR, 1, err_msg);\n",
      "122             PyList_SET_ITEM(__ERROR, 2, err_traceback);\n",
      "123             {Py_XDECREF(old_err_type);}\n",
      "124             {Py_XDECREF(old_err_msg);}\n",
      "125             {Py_XDECREF(old_err_traceback);}\n",
      "126         }\n",
      "127         // The failure code is returned to index what code block failed.\n",
      "128         return __failure;\n",
      "129         \n",
      "130         }\n",
      "131     };\n",
      "132     }\n",
      "133     \n",
      "134 \n",
      "135         static int __struct_compiled_op_3442132e74e76f61361fb1c73112eef4_executor(__struct_compiled_op_3442132e74e76f61361fb1c73112eef4* self) {\n",
      "136             return self->run();\n",
      "137         }\n",
      "138 \n",
      "139         static void __struct_compiled_op_3442132e74e76f61361fb1c73112eef4_destructor(void* executor, void* self) {\n",
      "140             delete ((__struct_compiled_op_3442132e74e76f61361fb1c73112eef4*)self);\n",
      "141         }\n",
      "142         \n",
      "143 //////////////////////\n",
      "144 ////  Functions\n",
      "145 //////////////////////\n",
      "146 static PyObject * instantiate(PyObject * self, PyObject *argtuple) {\n",
      "147   assert(PyTuple_Check(argtuple));\n",
      "148   if (2 != PyTuple_Size(argtuple)){ \n",
      "149      PyErr_Format(PyExc_TypeError, \"Wrong number of arguments, expected 2, got %i\", (int)PyTuple_Size(argtuple));\n",
      "150      return NULL;\n",
      "151   }\n",
      "152   __struct_compiled_op_3442132e74e76f61361fb1c73112eef4* struct_ptr = new __struct_compiled_op_3442132e74e76f61361fb1c73112eef4();\n",
      "153   if (struct_ptr->init( PyTuple_GET_ITEM(argtuple, 0),PyTuple_GET_ITEM(argtuple, 1) ) != 0) {\n",
      "154     delete struct_ptr;\n",
      "155     return NULL;\n",
      "156   }\n",
      "157   PyObject* thunk = PyCObject_FromVoidPtrAndDesc((void*)(&__struct_compiled_op_3442132e74e76f61361fb1c73112eef4_executor), struct_ptr, __struct_compiled_op_3442132e74e76f61361fb1c73112eef4_destructor);\n",
      "158   return thunk; }\n",
      "159 \n",
      "160 //////////////////////\n",
      "161 ////  Module init\n",
      "162 //////////////////////\n",
      "163 static PyMethodDef MyMethods[] = {\n",
      "164 \t{\"instantiate\", instantiate, METH_VARARGS, \"undocumented\"} ,\n",
      "165 \t{NULL, NULL, 0, NULL}\n",
      "166 };\n",
      "167 PyMODINIT_FUNC init3442132e74e76f61361fb1c73112eef4(void){\n",
      "168    (void) Py_InitModule(\"3442132e74e76f61361fb1c73112eef4\", MyMethods);\n",
      "169 }\n",
      "170 \n",
      "===============================\n",
      "nvcc warning : The 'compute_20', 'sm_20', and 'sm_21' architectures are deprecated, and may be removed in a future release (Use -Wno-deprecated-gpu-targets to suppress warning).\n",
      "In file included from /home/asaeed9/anaconda2/include/python2.7/Python.h:8:0,\n",
      "                 from mod.cu:1:\n",
      "/home/asaeed9/anaconda2/include/python2.7/pyconfig.h:1190:0: warning: \"_POSIX_C_SOURCE\" redefined\n",
      " #define _POSIX_C_SOURCE 200112L\n",
      " ^\n",
      "In file included from /usr/local/cuda/include/host_config.h:173:0,\n",
      "                 from /usr/local/cuda/include/cuda_runtime.h:78,\n",
      "                 from <command-line>:0:\n",
      "/usr/include/features.h:230:0: note: this is the location of the previous definition\n",
      " # define _POSIX_C_SOURCE 200809L\n",
      " ^\n",
      "In file included from /home/asaeed9/anaconda2/include/python2.7/Python.h:8:0,\n",
      "                 from mod.cu:1:\n",
      "/home/asaeed9/anaconda2/include/python2.7/pyconfig.h:1212:0: warning: \"_XOPEN_SOURCE\" redefined\n",
      " #define _XOPEN_SOURCE 600\n",
      " ^\n",
      "In file included from /usr/local/cuda/include/host_config.h:173:0,\n",
      "                 from /usr/local/cuda/include/cuda_runtime.h:78,\n",
      "                 from <command-line>:0:\n",
      "/usr/include/features.h:162:0: note: this is the location of the previous definition\n",
      " # define _XOPEN_SOURCE 700\n",
      " ^\n",
      "In file included from /home/asaeed9/anaconda2/include/python2.7/Python.h:8:0,\n",
      "                 from mod.cu:1:\n",
      "/home/asaeed9/anaconda2/include/python2.7/pyconfig.h:1190:0: warning: \"_POSIX_C_SOURCE\" redefined\n",
      " #define _POSIX_C_SOURCE 200112L\n",
      " ^\n",
      "In file included from /usr/local/cuda/include/host_config.h:173:0,\n",
      "                 from /usr/local/cuda/include/cuda_runtime.h:78,\n",
      "                 from <command-line>:0:\n",
      "/usr/include/features.h:230:0: note: this is the location of the previous definition\n",
      " # define _POSIX_C_SOURCE 200809L\n",
      " ^\n",
      "In file included from /home/asaeed9/anaconda2/include/python2.7/Python.h:8:0,\n",
      "                 from mod.cu:1:\n",
      "/home/asaeed9/anaconda2/include/python2.7/pyconfig.h:1212:0: warning: \"_XOPEN_SOURCE\" redefined\n",
      " #define _XOPEN_SOURCE 600\n",
      " ^\n",
      "In file included from /usr/local/cuda/include/host_config.h:173:0,\n",
      "                 from /usr/local/cuda/include/cuda_runtime.h:78,\n",
      "                 from <command-line>:0:\n",
      "/usr/include/features.h:162:0: note: this is the location of the previous definition\n",
      " # define _XOPEN_SOURCE 700\n",
      " ^\n",
      "/usr/bin/ld: cannot find -lcudnn\n",
      "collect2: error: ld returned 1 exit status\n",
      "Using gpu device 0: GeForce GTX 980 Ti (CNMeM is disabled, cuDNN None)\n",
      "WARNING (theano.sandbox.cuda): The cuda backend is deprecated and will be removed in the next release (v0.10).  Please switch to the gpuarray backend. You can get more information about how to switch at this URL:\n",
      " https://github.com/Theano/Theano/wiki/Converting-to-the-new-gpu-back-end%28gpuarray%29\n",
      "\n"
     ]
    },
    {
     "name": "stderr",
     "output_type": "stream",
     "text": [
      "WARNING (theano.sandbox.cuda): Ignoring call to use(1), GPU number 0 is already in use.\n"
     ]
    },
    {
     "name": "stdout",
     "output_type": "stream",
     "text": [
      "\n",
      "['nvcc', '-shared', '-O3', '-Xlinker', '-rpath,/usr/local/cuda/lib64', '-m64', '-Xcompiler', '-fno-math-errno,-Wno-unused-label,-Wno-unused-variable,-Wno-write-strings,-DCUDA_NDARRAY_CUH=c72d035fdf91890f3b36710688069b2e,-DNPY_NO_DEPRECATED_API=NPY_1_7_API_VERSION,-fPIC,-fvisibility=hidden', '-Xlinker', '-rpath,/home/asaeed9/.theano/compiledir_Linux-3.19--generic-x86_64-with-debian-jessie-sid-x86_64-2.7.13-64/cuda_ndarray', '-I/usr/local/cuda/include', '-I/home/asaeed9/anaconda2/lib/python2.7/site-packages/numpy/core/include', '-I/home/asaeed9/anaconda2/include/python2.7', '-I/home/asaeed9/anaconda2/lib/python2.7/site-packages/theano/gof', '-I/home/asaeed9/anaconda2/lib/python2.7/site-packages/theano/sandbox/cuda', '-L/home/asaeed9/anaconda2/lib', '-o', '/home/asaeed9/.theano/compiledir_Linux-3.19--generic-x86_64-with-debian-jessie-sid-x86_64-2.7.13-64/tmpdyR0ox/3442132e74e76f61361fb1c73112eef4.so', 'mod.cu', '-lcudnn', '-lpython2.7', '-lcudart']\n"
     ]
    }
   ],
   "source": [
    "from theano.sandbox import cuda\n",
    "cuda.use('gpu1')"
   ]
  },
  {
   "cell_type": "code",
   "execution_count": null,
   "metadata": {
    "collapsed": true
   },
   "outputs": [],
   "source": [
    "%matplotlib inline\n",
    "from __future__ import print_function, division\n",
    "#path=\"../data/2cat/sample\"\n",
    "import utils; reload(utils)\n",
    "from utils import *\n",
    "from IPython.display import FileLink\n",
    "from keras.preprocessing import image, sequence\n",
    "import os, sys\n",
    "from shutil import copyfile\n",
    "\n",
    "####\n",
    "from keras.layers.convolutional import *\n",
    "from keras.layers.core import Flatten, Dense, Dropout, Lambda\n",
    "from keras.optimizers import SGD, RMSprop, Adam"
   ]
  },
  {
   "cell_type": "code",
   "execution_count": null,
   "metadata": {
    "collapsed": true
   },
   "outputs": [],
   "source": [
    "batch_size=64"
   ]
  },
  {
   "cell_type": "code",
   "execution_count": null,
   "metadata": {
    "collapsed": true
   },
   "outputs": [],
   "source": [
    "path=\"/home/asaeed9/work/data/2cat/sample/\"\n",
    "results_path = \"/home/asaeed9/work/data/2cat/sample/results\"\n",
    "test_path = path + '/test/' #We use all the test data"
   ]
  },
  {
   "cell_type": "code",
   "execution_count": null,
   "metadata": {},
   "outputs": [],
   "source": [
    "%cd ../data/2cat/train"
   ]
  },
  {
   "cell_type": "code",
   "execution_count": null,
   "metadata": {
    "collapsed": true
   },
   "outputs": [],
   "source": [
    "#copy training images\n",
    "def copy_samples(n):\n",
    "    g = glob('*.jpg')\n",
    "    shuf = np.random.permutation(g)\n",
    "    for i in range(n): copyfile(shuf[i], '../sample/train/' + shuf[i]) \n",
    "    %mv ../sample/train/cat*.jpg ../sample/train/cats/\n",
    "    %mv ../sample/train/dog*.jpg ../sample/train/dogs/\n",
    "    \n",
    "    %cd ../valid\n",
    "\n",
    "    g = glob('*.jpg')\n",
    "    shuf = np.random.permutation(g)\n",
    "    for i in range(500): copyfile(shuf[i], '../sample/valid/' + shuf[i]) \n",
    "    %mv ../sample/valid/cat*.jpg ../sample/valid/cats/\n",
    "    %mv ../sample/valid/dog*.jpg ../sample/valid/dogs/\n",
    "    %cd /home/asaeed9/work/data/2cat/train"
   ]
  },
  {
   "cell_type": "code",
   "execution_count": null,
   "metadata": {
    "collapsed": true
   },
   "outputs": [],
   "source": [
    "def clean_up():\n",
    "    %rm $path/train/cats/*\n",
    "    %rm $path/train/dogs/*\n",
    "    %rm $path/valid/cats/*\n",
    "    %rm $path/valid/dogs/*"
   ]
  },
  {
   "cell_type": "code",
   "execution_count": null,
   "metadata": {
    "collapsed": true
   },
   "outputs": [],
   "source": [
    "clean_up()"
   ]
  },
  {
   "cell_type": "code",
   "execution_count": null,
   "metadata": {},
   "outputs": [],
   "source": [
    "%cd /home/asaeed9/work/data/2cat/train\n",
    "#for n in range(1000, 5001, 1000):\n",
    "n = 1500\n",
    "print('sample size: {}'.format(n))\n",
    "copy_samples(n)"
   ]
  },
  {
   "cell_type": "code",
   "execution_count": null,
   "metadata": {
    "collapsed": true
   },
   "outputs": [],
   "source": [
    "def conv1(batches):\n",
    "    model = Sequential([\n",
    "            BatchNormalization(axis=1, input_shape=(3,256,256)),\n",
    "            Convolution2D(32,3,3, activation='relu'),\n",
    "            BatchNormalization(axis=1),\n",
    "            MaxPooling2D((3,3)),\n",
    "            Convolution2D(64,3,3, activation='relu'),\n",
    "            BatchNormalization(axis=1),\n",
    "            MaxPooling2D((3,3)),\n",
    "            Flatten(),\n",
    "            Dense(200, activation='relu'),\n",
    "            BatchNormalization(),\n",
    "            Dense(2, activation='softmax')\n",
    "        ])\n",
    "\n",
    "    model.compile(Adam(lr=1e-4), loss='categorical_crossentropy', metrics=['accuracy'])\n",
    "#     model.fit_generator(batches, batches.nb_sample, nb_epoch=2, validation_data=val_batches, \n",
    "#                      nb_val_samples=val_batches.nb_sample)\n",
    "    model.optimizer.lr = 0.001\n",
    "    model.fit_generator(batches, batches.nb_sample, nb_epoch=10, validation_data=val_batches, \n",
    "                     nb_val_samples=val_batches.nb_sample)\n",
    "    return model"
   ]
  },
  {
   "cell_type": "code",
   "execution_count": null,
   "metadata": {},
   "outputs": [],
   "source": [
    "gen_t = image.ImageDataGenerator(rotation_range=15, height_shift_range=0.05, \n",
    "                shear_range=0.1, channel_shift_range=20, width_shift_range=0.1)\n",
    "\n",
    "tr_batches = gen_t.flow_from_directory(path + 'train', batch_size=batch_size)\n",
    "val_batches = gen_t.flow_from_directory(path + 'valid', class_mode='categorical', shuffle=True, batch_size=batch_size * 2)"
   ]
  },
  {
   "cell_type": "code",
   "execution_count": null,
   "metadata": {},
   "outputs": [],
   "source": [
    "conv1(tr_batches)"
   ]
  },
  {
   "cell_type": "code",
   "execution_count": null,
   "metadata": {},
   "outputs": [],
   "source": [
    "results_path"
   ]
  },
  {
   "cell_type": "code",
   "execution_count": null,
   "metadata": {
    "collapsed": true
   },
   "outputs": [],
   "source": [
    "mod.save_weights(results_path+ '/' +'ft_15000.e10')"
   ]
  },
  {
   "cell_type": "code",
   "execution_count": null,
   "metadata": {
    "collapsed": true
   },
   "outputs": [],
   "source": []
  }
 ],
 "metadata": {
  "kernelspec": {
   "display_name": "Python 2",
   "language": "python",
   "name": "python2"
  },
  "language_info": {
   "codemirror_mode": {
    "name": "ipython",
    "version": 2
   },
   "file_extension": ".py",
   "mimetype": "text/x-python",
   "name": "python",
   "nbconvert_exporter": "python",
   "pygments_lexer": "ipython2",
   "version": "2.7.13"
  }
 },
 "nbformat": 4,
 "nbformat_minor": 2
}
